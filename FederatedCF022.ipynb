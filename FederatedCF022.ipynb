{
  "nbformat": 4,
  "nbformat_minor": 0,
  "metadata": {
    "colab": {
      "name": "FederatedCF01.ipynb",
      "provenance": [],
      "toc_visible": true,
      "include_colab_link": true
    },
    "kernelspec": {
      "name": "python3",
      "display_name": "Python 3"
    },
    "language_info": {
      "name": "python"
    },
    "accelerator": "GPU"
  },
  "cells": [
    {
      "cell_type": "markdown",
      "metadata": {
        "id": "view-in-github",
        "colab_type": "text"
      },
      "source": [
        "<a href=\"https://colab.research.google.com/github/abdurahman02/AcademicContent/blob/master/FederatedCF022.ipynb\" target=\"_parent\"><img src=\"https://colab.research.google.com/assets/colab-badge.svg\" alt=\"Open In Colab\"/></a>"
      ]
    },
    {
      "cell_type": "code",
      "metadata": {
        "id": "FTxiepTsL9Je"
      },
      "source": [
        "import matplotlib.pyplot as plt\n",
        "from pathlib import Path\n",
        "import pandas as pd\n",
        "import numpy as np\n",
        "import os\n",
        "import copy\n",
        "import time\n",
        "import string"
      ],
      "execution_count": 28,
      "outputs": []
    },
    {
      "cell_type": "code",
      "metadata": {
        "colab": {
          "base_uri": "https://localhost:8080/"
        },
        "id": "bFNIvhWhMK1_",
        "outputId": "03323c3d-b178-476d-9f8f-228e5a2cdfe9"
      },
      "source": [
        "!git clone \"https://github.com/abdurahman02/ml-latest-small.git\"\n",
        "os.chdir(\"ml-latest-small\")\n",
        "os.listdir()"
      ],
      "execution_count": 29,
      "outputs": [
        {
          "output_type": "stream",
          "name": "stdout",
          "text": [
            "Cloning into 'ml-latest-small'...\n",
            "remote: Enumerating objects: 7, done.\u001b[K\n",
            "remote: Counting objects: 100% (7/7), done.\u001b[K\n",
            "remote: Compressing objects: 100% (7/7), done.\u001b[K\n",
            "remote: Total 7 (delta 0), reused 0 (delta 0), pack-reused 0\u001b[K\n",
            "Unpacking objects: 100% (7/7), done.\n"
          ]
        },
        {
          "output_type": "execute_result",
          "data": {
            "text/plain": [
              "['.git', 'ratings.csv', 'README.txt', 'movies.csv', 'links.csv', 'tags.csv']"
            ]
          },
          "metadata": {},
          "execution_count": 29
        }
      ]
    },
    {
      "cell_type": "code",
      "metadata": {
        "id": "KnYWGgDzb4BN"
      },
      "source": [
        "data = pd.read_csv(\"ratings.csv\")"
      ],
      "execution_count": 30,
      "outputs": []
    },
    {
      "cell_type": "code",
      "metadata": {
        "colab": {
          "base_uri": "https://localhost:8080/",
          "height": 206
        },
        "id": "OkCQhz6Oculg",
        "outputId": "28e9ce44-b831-40b3-f7e5-b2bc4fc8d67a"
      },
      "source": [
        "data.head()"
      ],
      "execution_count": 31,
      "outputs": [
        {
          "output_type": "execute_result",
          "data": {
            "text/html": [
              "\n",
              "  <div id=\"df-4b339242-b6ec-4095-a832-4e2164873930\">\n",
              "    <div class=\"colab-df-container\">\n",
              "      <div>\n",
              "<style scoped>\n",
              "    .dataframe tbody tr th:only-of-type {\n",
              "        vertical-align: middle;\n",
              "    }\n",
              "\n",
              "    .dataframe tbody tr th {\n",
              "        vertical-align: top;\n",
              "    }\n",
              "\n",
              "    .dataframe thead th {\n",
              "        text-align: right;\n",
              "    }\n",
              "</style>\n",
              "<table border=\"1\" class=\"dataframe\">\n",
              "  <thead>\n",
              "    <tr style=\"text-align: right;\">\n",
              "      <th></th>\n",
              "      <th>userId</th>\n",
              "      <th>movieId</th>\n",
              "      <th>rating</th>\n",
              "      <th>timestamp</th>\n",
              "    </tr>\n",
              "  </thead>\n",
              "  <tbody>\n",
              "    <tr>\n",
              "      <th>0</th>\n",
              "      <td>1</td>\n",
              "      <td>1</td>\n",
              "      <td>4.0</td>\n",
              "      <td>964982703</td>\n",
              "    </tr>\n",
              "    <tr>\n",
              "      <th>1</th>\n",
              "      <td>1</td>\n",
              "      <td>3</td>\n",
              "      <td>4.0</td>\n",
              "      <td>964981247</td>\n",
              "    </tr>\n",
              "    <tr>\n",
              "      <th>2</th>\n",
              "      <td>1</td>\n",
              "      <td>6</td>\n",
              "      <td>4.0</td>\n",
              "      <td>964982224</td>\n",
              "    </tr>\n",
              "    <tr>\n",
              "      <th>3</th>\n",
              "      <td>1</td>\n",
              "      <td>47</td>\n",
              "      <td>5.0</td>\n",
              "      <td>964983815</td>\n",
              "    </tr>\n",
              "    <tr>\n",
              "      <th>4</th>\n",
              "      <td>1</td>\n",
              "      <td>50</td>\n",
              "      <td>5.0</td>\n",
              "      <td>964982931</td>\n",
              "    </tr>\n",
              "  </tbody>\n",
              "</table>\n",
              "</div>\n",
              "      <button class=\"colab-df-convert\" onclick=\"convertToInteractive('df-4b339242-b6ec-4095-a832-4e2164873930')\"\n",
              "              title=\"Convert this dataframe to an interactive table.\"\n",
              "              style=\"display:none;\">\n",
              "        \n",
              "  <svg xmlns=\"http://www.w3.org/2000/svg\" height=\"24px\"viewBox=\"0 0 24 24\"\n",
              "       width=\"24px\">\n",
              "    <path d=\"M0 0h24v24H0V0z\" fill=\"none\"/>\n",
              "    <path d=\"M18.56 5.44l.94 2.06.94-2.06 2.06-.94-2.06-.94-.94-2.06-.94 2.06-2.06.94zm-11 1L8.5 8.5l.94-2.06 2.06-.94-2.06-.94L8.5 2.5l-.94 2.06-2.06.94zm10 10l.94 2.06.94-2.06 2.06-.94-2.06-.94-.94-2.06-.94 2.06-2.06.94z\"/><path d=\"M17.41 7.96l-1.37-1.37c-.4-.4-.92-.59-1.43-.59-.52 0-1.04.2-1.43.59L10.3 9.45l-7.72 7.72c-.78.78-.78 2.05 0 2.83L4 21.41c.39.39.9.59 1.41.59.51 0 1.02-.2 1.41-.59l7.78-7.78 2.81-2.81c.8-.78.8-2.07 0-2.86zM5.41 20L4 18.59l7.72-7.72 1.47 1.35L5.41 20z\"/>\n",
              "  </svg>\n",
              "      </button>\n",
              "      \n",
              "  <style>\n",
              "    .colab-df-container {\n",
              "      display:flex;\n",
              "      flex-wrap:wrap;\n",
              "      gap: 12px;\n",
              "    }\n",
              "\n",
              "    .colab-df-convert {\n",
              "      background-color: #E8F0FE;\n",
              "      border: none;\n",
              "      border-radius: 50%;\n",
              "      cursor: pointer;\n",
              "      display: none;\n",
              "      fill: #1967D2;\n",
              "      height: 32px;\n",
              "      padding: 0 0 0 0;\n",
              "      width: 32px;\n",
              "    }\n",
              "\n",
              "    .colab-df-convert:hover {\n",
              "      background-color: #E2EBFA;\n",
              "      box-shadow: 0px 1px 2px rgba(60, 64, 67, 0.3), 0px 1px 3px 1px rgba(60, 64, 67, 0.15);\n",
              "      fill: #174EA6;\n",
              "    }\n",
              "\n",
              "    [theme=dark] .colab-df-convert {\n",
              "      background-color: #3B4455;\n",
              "      fill: #D2E3FC;\n",
              "    }\n",
              "\n",
              "    [theme=dark] .colab-df-convert:hover {\n",
              "      background-color: #434B5C;\n",
              "      box-shadow: 0px 1px 3px 1px rgba(0, 0, 0, 0.15);\n",
              "      filter: drop-shadow(0px 1px 2px rgba(0, 0, 0, 0.3));\n",
              "      fill: #FFFFFF;\n",
              "    }\n",
              "  </style>\n",
              "\n",
              "      <script>\n",
              "        const buttonEl =\n",
              "          document.querySelector('#df-4b339242-b6ec-4095-a832-4e2164873930 button.colab-df-convert');\n",
              "        buttonEl.style.display =\n",
              "          google.colab.kernel.accessAllowed ? 'block' : 'none';\n",
              "\n",
              "        async function convertToInteractive(key) {\n",
              "          const element = document.querySelector('#df-4b339242-b6ec-4095-a832-4e2164873930');\n",
              "          const dataTable =\n",
              "            await google.colab.kernel.invokeFunction('convertToInteractive',\n",
              "                                                     [key], {});\n",
              "          if (!dataTable) return;\n",
              "\n",
              "          const docLinkHtml = 'Like what you see? Visit the ' +\n",
              "            '<a target=\"_blank\" href=https://colab.research.google.com/notebooks/data_table.ipynb>data table notebook</a>'\n",
              "            + ' to learn more about interactive tables.';\n",
              "          element.innerHTML = '';\n",
              "          dataTable['output_type'] = 'display_data';\n",
              "          await google.colab.output.renderOutput(dataTable, element);\n",
              "          const docLink = document.createElement('div');\n",
              "          docLink.innerHTML = docLinkHtml;\n",
              "          element.appendChild(docLink);\n",
              "        }\n",
              "      </script>\n",
              "    </div>\n",
              "  </div>\n",
              "  "
            ],
            "text/plain": [
              "   userId  movieId  rating  timestamp\n",
              "0       1        1     4.0  964982703\n",
              "1       1        3     4.0  964981247\n",
              "2       1        6     4.0  964982224\n",
              "3       1       47     5.0  964983815\n",
              "4       1       50     5.0  964982931"
            ]
          },
          "metadata": {},
          "execution_count": 31
        }
      ]
    },
    {
      "cell_type": "code",
      "source": [
        "def filtering_data(df,from_user, to_user, from_item, to_item):\n",
        "  if(from_user <= to_user and from_item <= to_item\n",
        "     and to_user < max(df[\"userId\"]) and to_item < max(df[\"movieId\"])\n",
        "     ):\n",
        "    return df[(df.userId >= from_user) & \n",
        "              (df.userId <= to_user) &\n",
        "              (df.movieId >= from_item) &\n",
        "              (df.movieId <= to_item)\n",
        "              ]\n",
        "  print(\"Error Range\")\n",
        "\n",
        "def getBatchForUser(data, u, batchSize):\n",
        "  if u >= len(data[\"userId\"].unique()):\n",
        "    print(\"INvalid UserId requested\")\n",
        "    return\n",
        "  if batchSize > len(data[data.userId == u]):\n",
        "    batchSize = len(data[data.userId == u])\n",
        "  return data[data.userId == u].sample(n=batchSize)"
      ],
      "metadata": {
        "id": "EKMuzxOjV4BK"
      },
      "execution_count": 32,
      "outputs": []
    },
    {
      "cell_type": "code",
      "metadata": {
        "id": "fGV2LLrqcxCl"
      },
      "source": [
        "# split train and validation before encoding\n",
        "# np.random.seed(3)\n",
        "# msk = np.random.rand(len(data)) < 0.8\n",
        "# train = data[msk].copy()\n",
        "# val = data[~msk].copy()"
      ],
      "execution_count": 33,
      "outputs": []
    },
    {
      "cell_type": "code",
      "metadata": {
        "id": "Al49AgtXc2m3"
      },
      "source": [
        ""
      ],
      "execution_count": 33,
      "outputs": []
    },
    {
      "cell_type": "code",
      "metadata": {
        "id": "K5DmYZDpc4_V"
      },
      "source": [
        "# here is a handy function modified from fast.ai\n",
        "def proc_col(col, train_col=None):\n",
        "    \"\"\"Encodes a pandas column with continous ids. \n",
        "    \"\"\"\n",
        "    if train_col is not None:\n",
        "        uniq = train_col.unique()\n",
        "    else:\n",
        "        uniq = col.unique()\n",
        "    name2idx = {o:i for i,o in enumerate(uniq)}\n",
        "    return name2idx, np.array([name2idx.get(x, -1) for x in col]), len(uniq)\n",
        "    \n",
        "def encode_data(df, train=None):\n",
        "    \"\"\" Encodes rating data with continous user and movie ids. \n",
        "    If train is provided, encodes df with the same encoding as train.\n",
        "    \"\"\"\n",
        "    df = df.copy()\n",
        "    for col_name in [\"userId\", \"movieId\"]:\n",
        "        train_col = None\n",
        "        if train is not None:\n",
        "            train_col = train[col_name]\n",
        "        _,col,_ = proc_col(df[col_name], train_col)\n",
        "        df[col_name] = col\n",
        "        df = df[df[col_name] >= 0]\n",
        "    return df"
      ],
      "execution_count": 34,
      "outputs": []
    },
    {
      "cell_type": "code",
      "metadata": {
        "id": "PTs0H8ysc7Vk"
      },
      "source": [
        "import torch\n",
        "import torch.nn as nn\n",
        "import torch.nn.functional as F"
      ],
      "execution_count": 35,
      "outputs": []
    },
    {
      "cell_type": "code",
      "metadata": {
        "id": "qtAUKwkLe5J8"
      },
      "source": [
        "# encoding the train and validation data\n",
        "# df_train = encode_data(train)\n",
        "# df_val = encode_data(val, train)"
      ],
      "execution_count": 36,
      "outputs": []
    },
    {
      "cell_type": "code",
      "source": [
        "# df_val.movieId.values"
      ],
      "metadata": {
        "id": "L8L215wIoPR4"
      },
      "execution_count": 37,
      "outputs": []
    },
    {
      "cell_type": "code",
      "source": [
        "# df_train_numpy = df_train.to_numpy(dtype=int, copy=True)\n",
        "# # print((df_train_numpy))\n",
        "# diction={}\n",
        "# for i in range(len(df_train_numpy)):\n",
        "#   diction[df_train_numpy[i][0],df_train_numpy[i][1]] = df_train_numpy[i][2]"
      ],
      "metadata": {
        "id": "HueUy7FsS4YB"
      },
      "execution_count": 38,
      "outputs": []
    },
    {
      "cell_type": "code",
      "metadata": {
        "id": "GruLv6NteLdk"
      },
      "source": [
        "class MF(nn.Module):\n",
        "    def __init__(self, userX_embedding, item_embed_mat, emb_size=100):\n",
        "        super(MF, self).__init__()\n",
        "        self.userX_embedding = userX_embedding\n",
        "        self.item_embed_mat = item_embed_mat\n",
        "        # print(userX_embedding.weight)\n",
        "        \n",
        "    def forward(self, u, v):\n",
        "        u = self.userX_embedding(u)\n",
        "        \n",
        "        v = self.item_embed_mat(v)\n",
        "        # print(\"u: \",u)\n",
        "        # print(\"v: \",v)\n",
        "        # print(len((u*v).sum(1)))\n",
        "        return (u*v).sum(1)"
      ],
      "execution_count": 39,
      "outputs": []
    },
    {
      "cell_type": "code",
      "source": [
        "# emb_size=5\n",
        "# items = torch.LongTensor(df_train.movieId.unique()) #.cuda()\n",
        "# embx_item = nn.Embedding(num_items, emb_size)\n",
        "# embx_user = nn.Embedding(1,emb_size)\n",
        "# embx_user.weight.data.uniform_(0, 0.05)\n",
        "# embx_item.weight.data.uniform_(0, 0.05)\n",
        "\n",
        "# model01 = MF(embx_user,embx_item,5)\n",
        "\n"
      ],
      "metadata": {
        "id": "JBN4U81W_EMf"
      },
      "execution_count": 40,
      "outputs": []
    },
    {
      "cell_type": "code",
      "source": [
        "# model01.userX_embedding.weight"
      ],
      "metadata": {
        "id": "OxQstTCALYJJ"
      },
      "execution_count": 41,
      "outputs": []
    },
    {
      "cell_type": "code",
      "source": [
        "# pred = model01(torch.tensor([0]), torch.tensor(items[0]))"
      ],
      "metadata": {
        "id": "ImYiM7KaLgL3"
      },
      "execution_count": 42,
      "outputs": []
    },
    {
      "cell_type": "code",
      "source": [
        "# model01.item_embed_mat.weight[0]"
      ],
      "metadata": {
        "id": "fX0vajH-STPi"
      },
      "execution_count": 43,
      "outputs": []
    },
    {
      "cell_type": "code",
      "source": [
        "# print(pred,torch.tensor([diction[0,0]]))"
      ],
      "metadata": {
        "id": "wjtcrNiMWm66"
      },
      "execution_count": 44,
      "outputs": []
    },
    {
      "cell_type": "code",
      "source": [
        "# optimizer = torch.optim.Adam(model01.parameters(), lr=0.01, weight_decay=0.0)\n",
        "# loss = F.mse_loss(pred,torch.FloatTensor([diction[0,0]]))\n",
        "# optimizer.zero_grad()\n",
        "# loss.backward()\n",
        "# optimizer.step()"
      ],
      "metadata": {
        "id": "9Ttxl73lW7lv"
      },
      "execution_count": 45,
      "outputs": []
    },
    {
      "cell_type": "code",
      "source": [
        "# print(model01.item_embed_mat.weight[0])\n",
        "# print(model01.userX_embedding.weight)"
      ],
      "metadata": {
        "id": "bCtRM_3cX7iw"
      },
      "execution_count": 46,
      "outputs": []
    },
    {
      "cell_type": "code",
      "metadata": {
        "id": "L8wIADslfG7-"
      },
      "source": [
        "# model = MF(num_users, num_items, emb_size=5) # .cuda() if you have a GPU"
      ],
      "execution_count": 47,
      "outputs": []
    },
    {
      "cell_type": "code",
      "source": [
        "# print(len(df_train.movieId.unique()))\n",
        "# print(max(df_train.movieId.values))"
      ],
      "metadata": {
        "id": "DqtdpvnIZCtP"
      },
      "execution_count": 48,
      "outputs": []
    },
    {
      "cell_type": "code",
      "source": [
        "def add_model_parameters(model1, model2):\n",
        "    # Adds the parameters of model1 to model2\n",
        "\n",
        "    params1 = model1.named_parameters()\n",
        "    params2 = model2.named_parameters()\n",
        "\n",
        "    dict_params2 = dict(params2)\n",
        "\n",
        "    for name1, param1 in params1:\n",
        "        if name1 in dict_params2 and name1 != 'userX_embedding.weight':\n",
        "            dict_params2[name1].data.copy_(param1.data + dict_params2[name1].data)\n",
        "\n",
        "    model2.load_state_dict(dict_params2)\n",
        "\n",
        "def sub_model_parameters(model1, model2):\n",
        "    # Subtracts the parameters of model2 with model1\n",
        "\n",
        "    params1 = model1.named_parameters()\n",
        "    params2 = model2.named_parameters()\n",
        "\n",
        "    dict_params2 = dict(params2)\n",
        "\n",
        "    for name1, param1 in params1:\n",
        "        if name1 in dict_params2 and name1 != 'userX_embedding.weight':\n",
        "            dict_params2[name1].data.copy_(dict_params2[name1].data - param1.data)\n",
        "\n",
        "    model2.load_state_dict(dict_params2)\n",
        "\n",
        "def divide_model_parameters(model, f):\n",
        "    # Divides model parameters except for the user embeddings with f\n",
        "    params1 = model.named_parameters()\n",
        "    params2 = model.named_parameters()\n",
        "    dict_params2 = dict(params2)\n",
        "    for name1, param1 in params1:\n",
        "        if name1 != 'userX_embedding.weight':\n",
        "            dict_params2[name1].data.copy_(param1.data / f)\n",
        "    model.load_state_dict(dict_params2)\n",
        "\n",
        "def zero_model_parameters(model):\n",
        "    # sets all parameters to zero\n",
        "\n",
        "    params1 = model.named_parameters()\n",
        "    params2 = model.named_parameters()\n",
        "    dict_params2 = dict(params2)\n",
        "    for name1, param1 in params1:\n",
        "        if name1 in dict_params2:\n",
        "            dict_params2[name1].data.copy_(param1.data - dict_params2[name1].data)\n",
        "\n",
        "    model.load_state_dict(dict_params2)"
      ],
      "metadata": {
        "id": "H-RAUV3onVp2"
      },
      "execution_count": 49,
      "outputs": []
    },
    {
      "cell_type": "code",
      "source": [
        "class RMSELoss(nn.Module):\n",
        "    def __init__(self, eps=1e-6):\n",
        "        super().__init__()\n",
        "        self.mse = nn.MSELoss()\n",
        "        self.eps = eps\n",
        "        \n",
        "    def forward(self,yhat,y):\n",
        "        loss = torch.sqrt(self.mse(yhat,y) + self.eps)\n",
        "        return loss"
      ],
      "metadata": {
        "id": "PaEU707c5QQB"
      },
      "execution_count": 50,
      "outputs": []
    },
    {
      "cell_type": "code",
      "metadata": {
        "id": "NYuOM0iWfJH0"
      },
      "source": [
        "def fed_train_client(model_server, df_train,epochs=10, lr=0.1):\n",
        "    \n",
        "    emb_size=5\n",
        "    los=[]\n",
        "    los_usr=[]\n",
        "    dict_los={}\n",
        "    user_emb_dict = {}\n",
        "    item_emb_mat_dict = {}\n",
        "\n",
        "    \n",
        "    model_diff = copy.deepcopy(model_server)\n",
        "    zero_model_parameters(model_diff)\n",
        "    # model02(torch.tensor([0]), torch.tensor(items[0]))\n",
        "    t1 = time.time()\n",
        "    \n",
        "    for user_id in range(len(df_train.userId.unique())):\n",
        "        \n",
        "        model02 = copy.deepcopy(model_server)\n",
        "        optimizer = torch.optim.Adam(model02.parameters(), lr=lr, weight_decay=1e-5)\n",
        "        batch = df_train[df_train.userId == user_id]\n",
        "        batch = batch.to_numpy(dtype=int, copy=True)\n",
        "        for e in range(epochs):\n",
        "            for data_point in batch:\n",
        "                # print(data_point)\n",
        "                y_hat = model02(torch.tensor([0]), torch.tensor(data_point[1]))\n",
        "\n",
        "                loss_fn = RMSELoss()\n",
        "                loss = loss_fn(y_hat,torch.FloatTensor([data_point[2]]))\n",
        "                optimizer.zero_grad()\n",
        "                loss.backward()\n",
        "                optimizer.step()\n",
        "                los.append(loss.item())\n",
        "            \n",
        "            los_usr.append(np.sqrt(np.sum([x**2 for x in los])/len(batch)+1e-6))\n",
        "            los.clear()\n",
        "        # running_loss = running_loss/len(data_point)\n",
        "        user_emb_dict[user_id] = copy.deepcopy(model02.userX_embedding.weight)\n",
        "        item_emb_mat_dict[user_id] = copy.deepcopy(model02.item_embed_mat.weight)\n",
        "        \n",
        "        dict_los[user_id] = los_usr[len(los_usr)-1]\n",
        "        print(\"userId:\", user_id, \"training_loss: \", dict_los[user_id])\n",
        "        los_usr.clear()\n",
        "\n",
        "        sub_model_parameters(model_server, model02)\n",
        "        add_model_parameters(model02, model_diff)\n",
        "        \n",
        "    # Take the average of the MLP and item vectors\n",
        "    divide_model_parameters(model_diff, (len(df_train.userId.unique())))\n",
        "\n",
        "    # Update the global model by adding the total change\n",
        "    add_model_parameters(model_diff, model_server)\n",
        "\n",
        "    t2 = time.time()\n",
        "\n",
        "    print(\"Time of round:\", round(t2 - t1), \"seconds\")\n",
        "    return dict_los\n",
        "    # test_loss(model, unsqueeze)"
      ],
      "execution_count": 51,
      "outputs": []
    },
    {
      "cell_type": "code",
      "source": [
        "def fed_eval(model, df_val):\n",
        "    los = []\n",
        "    los_usr = []\n",
        "    for user_id in range(len(df_val.userId.unique())):\n",
        "        batch = df_val[df_val.userId == user_id]\n",
        "        batch = batch.to_numpy(dtype=int, copy=True)\n",
        "        for data_point in batch:\n",
        "            y_hat = model(torch.tensor([0]), torch.tensor(data_point[1]))\n",
        "            # loss = RMSELoss(y_hat,torch.FloatTensor([data_point[2]]))\n",
        "            loss_fn = RMSELoss()\n",
        "            loss = loss_fn(y_hat,torch.FloatTensor([data_point[2]]))\n",
        "            los.append(loss.item())\n",
        "        los_usr.append(np.sqrt(np.sum([x**2 for x in los])/len(batch)+1e-6))\n",
        "        los.clear()\n",
        "    return np.mean(los_usr),los_usr\n"
      ],
      "metadata": {
        "id": "wcWR8tjhuHii"
      },
      "execution_count": 52,
      "outputs": []
    },
    {
      "cell_type": "code",
      "source": [
        "def Server(from_user, to_user, from_item, to_item, epochs, emb_size, rounds, lr):\n",
        "\n",
        " \n",
        "    Max_BatchSize_User = 20\n",
        "    lr = lr\n",
        "    eta = 80\n",
        "    \n",
        "    print(\"embedding size is: \",emb_size)\n",
        "    print(\"Max Batch Size is: \",Max_BatchSize_User)\n",
        "\n",
        "    avg_train_loss = []\n",
        "    dict_loss_train={}\n",
        "    avg_test_loss_vec = []\n",
        "    \n",
        "    filtered_data = filtering_data(data, from_user, to_user, from_item, to_item)\n",
        "    np.random.seed(3)\n",
        "    msk = np.random.rand(len(filtered_data)) < 0.8\n",
        "    train = filtered_data[msk].copy()\n",
        "    val = filtered_data[~msk].copy()\n",
        "    df_train = encode_data(train)\n",
        "    df_val = encode_data(val, train)\n",
        "\n",
        "    \n",
        "    embx_item = nn.Embedding(len(df_train.movieId.unique()), emb_size)\n",
        "    embx_user = nn.Embedding(1,emb_size)\n",
        "    if torch.cuda.is_available():\n",
        "        embx_user.weight.data.uniform_(0, 0.05).cuda()\n",
        "        embx_item.weight.data.uniform_(0, 0.05).cuda()\n",
        "    else:\n",
        "        embx_user.weight.data.uniform_(0, 0.05)\n",
        "        embx_item.weight.data.uniform_(0, 0.05)\n",
        "    model_server = MF(embx_user,embx_item,emb_size)\n",
        "\n",
        "    for t in range(rounds):  # for each round\n",
        "\n",
        "        print(\"Starting round\", t + 1)\n",
        "        # train one round\n",
        "        \n",
        "        dict_loss_train = fed_train_client(model_server, df_train, epochs=epochs, lr=lr)\n",
        "\n",
        "        avg_train_loss.append(np.mean([dict_loss_train[x] for x in dict_loss_train]))\n",
        "\n",
        "        print(\"Evaluating model...\")\n",
        "        avg_test_loss, test_loss_vec_userX = fed_eval(model_server, df_val)\n",
        "        avg_test_loss_vec.append(avg_test_loss)\n",
        "        print(\"Round \", t, \" computed test loss:\", avg_test_loss)\n",
        "    return avg_test_loss_vec, test_loss_vec_userX, avg_train_loss\n",
        "        "
      ],
      "metadata": {
        "id": "P4F6H_Y_ticR"
      },
      "execution_count": 53,
      "outputs": []
    },
    {
      "cell_type": "code",
      "source": [
        "from_user = 1\n",
        "to_user = 30\n",
        "from_item = 1\n",
        "to_item = 10000\n",
        "epochs=10\n",
        "emb_size=10\n",
        "rounds=20\n",
        "lr=0.1\n",
        "avg_test_loss_vec, \\\n",
        "test_loss_vec_userX,\\\n",
        "avg_train_loss = Server(from_user, to_user, \n",
        "                        from_item, to_item, \n",
        "                        epochs, emb_size, rounds, lr)"
      ],
      "metadata": {
        "id": "K7lAh348j_jy",
        "colab": {
          "base_uri": "https://localhost:8080/"
        },
        "outputId": "c9d6651d-38d7-46c5-f54a-4cc9335e4ca4"
      },
      "execution_count": null,
      "outputs": [
        {
          "output_type": "stream",
          "name": "stdout",
          "text": [
            "embedding size is:  10\n",
            "Max Batch Size is:  20\n",
            "Starting round 1\n",
            "userId: 0 training_loss:  4.010663815363028\n",
            "userId: 1 training_loss:  0.24108885355863754\n",
            "userId: 2 training_loss:  2.5073948776802184\n",
            "userId: 3 training_loss:  3.580183037474199\n",
            "userId: 4 training_loss:  2.2848651280389114\n",
            "userId: 5 training_loss:  2.9145358337080562\n",
            "userId: 6 training_loss:  3.220468490849105\n",
            "userId: 7 training_loss:  2.971423970868952\n",
            "userId: 8 training_loss:  2.5332423525506123\n",
            "userId: 9 training_loss:  2.306696280213099\n",
            "userId: 10 training_loss:  2.537517145978198\n",
            "userId: 11 training_loss:  3.1375355933138085\n",
            "userId: 12 training_loss:  2.712484652763543\n",
            "userId: 13 training_loss:  2.773393597747776\n",
            "userId: 14 training_loss:  1.9284036267776337\n",
            "userId: 15 training_loss:  2.3024681829051454\n",
            "userId: 16 training_loss:  2.791341318177365\n",
            "userId: 17 training_loss:  4.261209201038054\n",
            "userId: 18 training_loss:  4.581336501374574\n",
            "userId: 19 training_loss:  3.5932919592715247\n",
            "userId: 20 training_loss:  3.7300510078584916\n",
            "userId: 21 training_loss:  1.5511255130754917\n",
            "userId: 22 training_loss:  3.80643696811118\n",
            "userId: 23 training_loss:  2.8948789816456277\n",
            "userId: 24 training_loss:  1.1699198776754616\n",
            "userId: 25 training_loss:  1.372534713590961\n",
            "userId: 26 training_loss:  3.3063636917528436\n",
            "userId: 27 training_loss:  3.920720041136914\n",
            "userId: 28 training_loss:  2.5759402642626306\n",
            "userId: 29 training_loss:  1.812382468430503\n",
            "Time of round: 31 seconds\n",
            "Evaluating model...\n",
            "Round  0  computed test loss: 3.717575716006268\n",
            "Starting round 2\n",
            "userId: 0 training_loss:  4.527303613356447\n",
            "userId: 1 training_loss:  0.60958802073869\n",
            "userId: 2 training_loss:  2.8683918123377374\n",
            "userId: 3 training_loss:  3.139362341416429\n",
            "userId: 4 training_loss:  1.9469215248417826\n",
            "userId: 5 training_loss:  3.7799426723216776\n",
            "userId: 6 training_loss:  2.8293562039232407\n",
            "userId: 7 training_loss:  2.3772461451419176\n",
            "userId: 8 training_loss:  3.2702664343191374\n",
            "userId: 9 training_loss:  2.1609885212609163\n",
            "userId: 10 training_loss:  2.2651286529292705\n",
            "userId: 11 training_loss:  1.6605878162652243\n",
            "userId: 12 training_loss:  1.2888489891648363\n",
            "userId: 13 training_loss:  1.9768494037302409\n",
            "userId: 14 training_loss:  3.2192004050100547\n",
            "userId: 15 training_loss:  2.4428460542654005\n",
            "userId: 16 training_loss:  2.1569310699049073\n",
            "userId: 17 training_loss:  3.721415666180463\n",
            "userId: 18 training_loss:  3.5162606459989285\n",
            "userId: 19 training_loss:  3.8827300972906276\n",
            "userId: 20 training_loss:  3.9760975400546794\n",
            "userId: 21 training_loss:  1.9759425052025401\n",
            "userId: 22 training_loss:  3.0979945269628146\n",
            "userId: 23 training_loss:  2.068553347427634\n",
            "userId: 24 training_loss:  0.5870478970586637\n",
            "userId: 25 training_loss:  1.0493568918318696\n",
            "userId: 26 training_loss:  3.0866110207600483\n",
            "userId: 27 training_loss:  3.79877306596584\n",
            "userId: 28 training_loss:  2.1180420620297284\n",
            "userId: 29 training_loss:  1.576667774899939\n",
            "Time of round: 30 seconds\n",
            "Evaluating model...\n",
            "Round  1  computed test loss: 3.7131810996174437\n",
            "Starting round 3\n",
            "userId: 0 training_loss:  4.514902891143849\n",
            "userId: 1 training_loss:  0.5517419831474766\n",
            "userId: 2 training_loss:  2.310979847070453\n",
            "userId: 3 training_loss:  3.0336695296643077\n",
            "userId: 4 training_loss:  1.5207256941028278\n",
            "userId: 5 training_loss:  4.337062745340045\n",
            "userId: 6 training_loss:  2.832214475473792\n",
            "userId: 7 training_loss:  1.3563664329796021\n",
            "userId: 8 training_loss:  1.8096617708577378\n",
            "userId: 9 training_loss:  2.3488167924673222\n",
            "userId: 10 training_loss:  3.1651733478560415\n",
            "userId: 11 training_loss:  1.820429230948567\n",
            "userId: 12 training_loss:  1.3631372695620483\n",
            "userId: 13 training_loss:  2.274952441849117\n",
            "userId: 14 training_loss:  2.8051703493353104\n",
            "userId: 15 training_loss:  3.1261002544119685\n",
            "userId: 16 training_loss:  3.962130698765329\n",
            "userId: 17 training_loss:  3.780305287387127\n",
            "userId: 18 training_loss:  4.407907965248219\n",
            "userId: 19 training_loss:  3.476289456229161\n",
            "userId: 20 training_loss:  4.299671098544947\n",
            "userId: 21 training_loss:  3.9824843433533603\n",
            "userId: 22 training_loss:  3.2796403141035664\n",
            "userId: 23 training_loss:  2.3460911622733582\n",
            "userId: 24 training_loss:  0.6686216964477603\n",
            "userId: 25 training_loss:  1.2095220250848928\n",
            "userId: 26 training_loss:  2.9694896698152253\n",
            "userId: 27 training_loss:  4.67322428257212\n",
            "userId: 28 training_loss:  1.798896191114614\n",
            "userId: 29 training_loss:  1.14927354684321\n",
            "Time of round: 30 seconds\n",
            "Evaluating model...\n",
            "Round  2  computed test loss: 3.712745730026838\n",
            "Starting round 4\n",
            "userId: 0 training_loss:  3.674223650163728\n",
            "userId: 1 training_loss:  0.638026959097982\n",
            "userId: 2 training_loss:  2.1885993682587053\n",
            "userId: 3 training_loss:  3.388026242553785\n",
            "userId: 4 training_loss:  1.969051548613142\n",
            "userId: 5 training_loss:  4.240939211307396\n",
            "userId: 6 training_loss:  3.271460523345823\n",
            "userId: 7 training_loss:  2.2594549028571835\n",
            "userId: 8 training_loss:  2.0356629124696966\n",
            "userId: 9 training_loss:  2.7819519958653873\n",
            "userId: 10 training_loss:  2.839295837749986\n",
            "userId: 11 training_loss:  2.5933222550349955\n",
            "userId: 12 training_loss:  2.197006114921609\n",
            "userId: 13 training_loss:  2.2051572306521012\n",
            "userId: 14 training_loss:  2.752994857882253\n",
            "userId: 15 training_loss:  2.3155839366622035\n",
            "userId: 16 training_loss:  1.7632627007840924\n",
            "userId: 17 training_loss:  4.186108174625758\n",
            "userId: 18 training_loss:  4.371681568193019\n",
            "userId: 19 training_loss:  4.260619247195552\n",
            "userId: 20 training_loss:  3.059144714383831\n",
            "userId: 21 training_loss:  2.436700101513299\n",
            "userId: 22 training_loss:  3.022328850640077\n",
            "userId: 23 training_loss:  3.358844561322646\n",
            "userId: 24 training_loss:  0.7850902037938818\n",
            "userId: 25 training_loss:  1.8939978988414496\n",
            "userId: 26 training_loss:  2.640527952910339\n",
            "userId: 27 training_loss:  3.5626125601380734\n",
            "userId: 28 training_loss:  1.8781591067382992\n",
            "userId: 29 training_loss:  1.4386783141419914\n",
            "Time of round: 30 seconds\n",
            "Evaluating model...\n",
            "Round  3  computed test loss: 3.7210931794921978\n",
            "Starting round 5\n",
            "userId: 0 training_loss:  4.571288622109379\n",
            "userId: 1 training_loss:  0.40068596407134494\n",
            "userId: 2 training_loss:  2.370516721602109\n",
            "userId: 3 training_loss:  3.8218491300538804\n",
            "userId: 4 training_loss:  2.2302115120725614\n",
            "userId: 5 training_loss:  4.288336839687434\n",
            "userId: 6 training_loss:  3.356433010990858\n",
            "userId: 7 training_loss:  2.398326710514714\n",
            "userId: 8 training_loss:  1.763164645646936\n",
            "userId: 9 training_loss:  1.990029340217164\n",
            "userId: 10 training_loss:  3.0352195985115746\n",
            "userId: 11 training_loss:  1.8985148135385086\n",
            "userId: 12 training_loss:  1.7500373143021204\n",
            "userId: 13 training_loss:  2.464742575127592\n",
            "userId: 14 training_loss:  2.7296974055531114\n",
            "userId: 15 training_loss:  2.774483318362586\n",
            "userId: 16 training_loss:  4.923221936922233\n",
            "userId: 17 training_loss:  4.522430572153975\n",
            "userId: 18 training_loss:  4.017280175645338\n",
            "userId: 19 training_loss:  3.72700293174299\n",
            "userId: 20 training_loss:  4.274936900307279\n",
            "userId: 21 training_loss:  2.2895461399795884\n",
            "userId: 22 training_loss:  3.3459023271646817\n",
            "userId: 23 training_loss:  2.236699841310064\n",
            "userId: 24 training_loss:  0.9050257731135495\n",
            "userId: 25 training_loss:  1.4879178114539928\n",
            "userId: 26 training_loss:  2.9164245977801486\n",
            "userId: 27 training_loss:  3.6697649018808485\n",
            "userId: 28 training_loss:  2.2059659066891597\n",
            "userId: 29 training_loss:  1.7619029757624896\n",
            "Time of round: 30 seconds\n",
            "Evaluating model...\n",
            "Round  4  computed test loss: 3.7237155054277022\n",
            "Starting round 6\n",
            "userId: 0 training_loss:  4.167862679507667\n",
            "userId: 1 training_loss:  0.2789344473178855\n",
            "userId: 2 training_loss:  2.3272025901543856\n",
            "userId: 3 training_loss:  3.095421803976989\n",
            "userId: 4 training_loss:  1.5438353986995534\n",
            "userId: 5 training_loss:  4.310173689567263\n",
            "userId: 6 training_loss:  3.7291057331141473\n",
            "userId: 7 training_loss:  1.922759298778247\n",
            "userId: 8 training_loss:  1.3514205054913206\n",
            "userId: 9 training_loss:  2.834989647695625\n",
            "userId: 10 training_loss:  2.8839816925326986\n",
            "userId: 11 training_loss:  1.1270072332731087\n",
            "userId: 12 training_loss:  1.7179133592110942\n",
            "userId: 13 training_loss:  2.4928153755012836\n",
            "userId: 14 training_loss:  2.338213842631388\n",
            "userId: 15 training_loss:  1.8060189905680948\n",
            "userId: 16 training_loss:  3.040248102950348\n",
            "userId: 17 training_loss:  4.033226589946469\n",
            "userId: 18 training_loss:  3.998392380116606\n",
            "userId: 19 training_loss:  3.772923879028323\n",
            "userId: 20 training_loss:  2.408721746620747\n",
            "userId: 21 training_loss:  2.1057566373903627\n",
            "userId: 22 training_loss:  3.259867064791304\n",
            "userId: 23 training_loss:  2.805181330004078\n",
            "userId: 24 training_loss:  0.8215614296575888\n",
            "userId: 25 training_loss:  1.4484032934134443\n",
            "userId: 26 training_loss:  3.2236127083694575\n",
            "userId: 27 training_loss:  3.4255210954176882\n",
            "userId: 28 training_loss:  2.360512391110471\n",
            "userId: 29 training_loss:  1.1748044578697985\n",
            "Time of round: 30 seconds\n",
            "Evaluating model...\n",
            "Round  5  computed test loss: 3.726320287614929\n",
            "Starting round 7\n"
          ]
        }
      ]
    },
    {
      "cell_type": "code",
      "source": [
        "\n",
        "# from_user = 1\n",
        "# to_user = 3\n",
        "# from_item = 1\n",
        "# to_item = 10000\n",
        "# epochs=10\n",
        "# emb_size=20\n",
        "# rounds=100\n",
        "plt.xlabel('number of rounds')\n",
        "plt.ylabel('Average user test loss')\n",
        "print(\"total users: \", abs(from_user-to_user))\n",
        "print(\"total items: \", abs(from_item-to_item))\n",
        "print(\"Embedding size: \",emb_size)\n",
        "print(\"local epochs: \", epochs)\n",
        "plt.plot(np.arange(start=1, stop=len(avg_test_loss_vec)+1, step=1), avg_test_loss_vec, 'g--')\n",
        "plt.plot(np.arange(start=1, stop=len(avg_test_loss_vec)+1, step=1), avg_train_loss, 'b--')\n",
        "plt.legend([\"Test Loss\", \"Training loss\"])"
      ],
      "metadata": {
        "id": "Fx2h29Ra2Qy8",
        "outputId": "e513d3b1-ed91-41fd-af50-d2366b0378d2",
        "colab": {
          "base_uri": "https://localhost:8080/",
          "height": 366
        }
      },
      "execution_count": 62,
      "outputs": [
        {
          "output_type": "stream",
          "name": "stdout",
          "text": [
            "total users:  2\n",
            "total items:  9999\n",
            "Embedding size:  10\n",
            "local epochs:  10\n"
          ]
        },
        {
          "output_type": "execute_result",
          "data": {
            "text/plain": [
              "<matplotlib.legend.Legend at 0x7fefb7b2f350>"
            ]
          },
          "metadata": {},
          "execution_count": 62
        },
        {
          "output_type": "display_data",
          "data": {
            "image/png": "[encoded data removed]",
            "text/plain": [
              "<Figure size 432x288 with 1 Axes>"
            ]
          },
          "metadata": {
            "needs_background": "light"
          }
        }
      ]
    },
    {
      "cell_type": "code",
      "metadata": {
        "id": "aZdaA4r7fZS0"
      },
      "source": [
        "class MF_bias(nn.Module):\n",
        "    def __init__(self, num_users, num_items, emb_size=100):\n",
        "        super(MF_bias, self).__init__()\n",
        "        self.user_emb = nn.Embedding(num_users, emb_size)\n",
        "        self.user_bias = nn.Embedding(num_users, 1)\n",
        "        self.item_emb = nn.Embedding(num_items, emb_size)\n",
        "        self.item_bias = nn.Embedding(num_items, 1)\n",
        "        self.user_emb.weight.data.uniform_(0,0.05)\n",
        "        self.item_emb.weight.data.uniform_(0,0.05)\n",
        "        self.user_bias.weight.data.uniform_(-0.01,0.01)\n",
        "        self.item_bias.weight.data.uniform_(-0.01,0.01)\n",
        "        \n",
        "    def forward(self, u, v):\n",
        "        U = self.user_emb(u)\n",
        "        V = self.item_emb(v)\n",
        "        b_u = self.user_bias(u).squeeze()\n",
        "        b_v = self.item_bias(v).squeeze()\n",
        "        return (U*V).sum(1) +  b_u  + b_v"
      ],
      "execution_count": 56,
      "outputs": []
    },
    {
      "cell_type": "code",
      "metadata": {
        "id": "wJuYmvy6fqnk"
      },
      "source": [
        "# model = MF_bias(num_users, num_items, emb_size=100) #.cuda()"
      ],
      "execution_count": 57,
      "outputs": []
    },
    {
      "cell_type": "code",
      "metadata": {
        "id": "jV86th6hfsyU"
      },
      "source": [
        "# train_epocs(model, epochs=10, lr=0.05, wd=1e-5)"
      ],
      "execution_count": 58,
      "outputs": []
    },
    {
      "cell_type": "code",
      "metadata": {
        "id": "AlI3eX5yfusz"
      },
      "source": [
        "# train_epocs(model, epochs=10, lr=0.01, wd=1e-5)"
      ],
      "execution_count": 59,
      "outputs": []
    },
    {
      "cell_type": "code",
      "metadata": {
        "id": "TD5XdcnZfwZV"
      },
      "source": [
        "# train_epocs(model, epochs=10, lr=0.001, wd=1e-5)"
      ],
      "execution_count": 60,
      "outputs": []
    },
    {
      "cell_type": "code",
      "metadata": {
        "id": "xoqqAbVwfyxZ"
      },
      "source": [
        ""
      ],
      "execution_count": 60,
      "outputs": []
    }
  ]
}