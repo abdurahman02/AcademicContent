{
  "nbformat": 4,
  "nbformat_minor": 0,
  "metadata": {
    "colab": {
      "name": "FederatedCF01.ipynb",
      "provenance": [],
      "toc_visible": true,
      "include_colab_link": true
    },
    "kernelspec": {
      "name": "python3",
      "display_name": "Python 3"
    },
    "language_info": {
      "name": "python"
    },
    "accelerator": "GPU"
  },
  "cells": [
    {
      "cell_type": "markdown",
      "metadata": {
        "id": "view-in-github",
        "colab_type": "text"
      },
      "source": [
        "<a href=\"https://colab.research.google.com/github/abdurahman02/AcademicContent/blob/master/FederatedCF011.ipynb\" target=\"_parent\"><img src=\"https://colab.research.google.com/assets/colab-badge.svg\" alt=\"Open In Colab\"/></a>"
      ]
    },
    {
      "cell_type": "code",
      "metadata": {
        "id": "FTxiepTsL9Je"
      },
      "source": [
        "import matplotlib.pyplot as plt\n",
        "from pathlib import Path\n",
        "import pandas as pd\n",
        "import numpy as np\n",
        "import os\n",
        "import copy\n",
        "import time\n",
        "import string"
      ],
      "execution_count": null,
      "outputs": []
    },
    {
      "cell_type": "code",
      "metadata": {
        "colab": {
          "base_uri": "https://localhost:8080/"
        },
        "id": "bFNIvhWhMK1_",
        "outputId": "fb2d0733-1558-4c9a-8c83-31e3a6c14cfb"
      },
      "source": [
        "!git clone \"https://github.com/abdurahman02/ml-latest-small.git\"\n",
        "os.chdir(\"ml-latest-small\")\n",
        "os.listdir()"
      ],
      "execution_count": null,
      "outputs": [
        {
          "output_type": "stream",
          "name": "stdout",
          "text": [
            "Cloning into 'ml-latest-small'...\n",
            "remote: Enumerating objects: 7, done.\u001b[K\n",
            "remote: Counting objects: 100% (7/7), done.\u001b[K\n",
            "remote: Compressing objects: 100% (7/7), done.\u001b[K\n",
            "remote: Total 7 (delta 0), reused 0 (delta 0), pack-reused 0\u001b[K\n",
            "Unpacking objects: 100% (7/7), done.\n"
          ]
        },
        {
          "output_type": "execute_result",
          "data": {
            "text/plain": [
              "['.git', 'ratings.csv', 'README.txt', 'movies.csv', 'links.csv', 'tags.csv']"
            ]
          },
          "metadata": {},
          "execution_count": 3
        }
      ]
    },
    {
      "cell_type": "code",
      "metadata": {
        "id": "KnYWGgDzb4BN"
      },
      "source": [
        "data = pd.read_csv(\"ratings.csv\")"
      ],
      "execution_count": null,
      "outputs": []
    },
    {
      "cell_type": "code",
      "metadata": {
        "colab": {
          "base_uri": "https://localhost:8080/",
          "height": 206
        },
        "id": "OkCQhz6Oculg",
        "outputId": "3912e846-41f0-4266-b70b-cb9b6b2c1684"
      },
      "source": [
        "data.head()"
      ],
      "execution_count": null,
      "outputs": [
        {
          "output_type": "execute_result",
          "data": {
            "text/html": [
              "\n",
              "  <div id=\"df-6cbd2f95-f030-4fc6-921b-bd16453e6159\">\n",
              "    <div class=\"colab-df-container\">\n",
              "      <div>\n",
              "<style scoped>\n",
              "    .dataframe tbody tr th:only-of-type {\n",
              "        vertical-align: middle;\n",
              "    }\n",
              "\n",
              "    .dataframe tbody tr th {\n",
              "        vertical-align: top;\n",
              "    }\n",
              "\n",
              "    .dataframe thead th {\n",
              "        text-align: right;\n",
              "    }\n",
              "</style>\n",
              "<table border=\"1\" class=\"dataframe\">\n",
              "  <thead>\n",
              "    <tr style=\"text-align: right;\">\n",
              "      <th></th>\n",
              "      <th>userId</th>\n",
              "      <th>movieId</th>\n",
              "      <th>rating</th>\n",
              "      <th>timestamp</th>\n",
              "    </tr>\n",
              "  </thead>\n",
              "  <tbody>\n",
              "    <tr>\n",
              "      <th>0</th>\n",
              "      <td>1</td>\n",
              "      <td>1</td>\n",
              "      <td>4.0</td>\n",
              "      <td>964982703</td>\n",
              "    </tr>\n",
              "    <tr>\n",
              "      <th>1</th>\n",
              "      <td>1</td>\n",
              "      <td>3</td>\n",
              "      <td>4.0</td>\n",
              "      <td>964981247</td>\n",
              "    </tr>\n",
              "    <tr>\n",
              "      <th>2</th>\n",
              "      <td>1</td>\n",
              "      <td>6</td>\n",
              "      <td>4.0</td>\n",
              "      <td>964982224</td>\n",
              "    </tr>\n",
              "    <tr>\n",
              "      <th>3</th>\n",
              "      <td>1</td>\n",
              "      <td>47</td>\n",
              "      <td>5.0</td>\n",
              "      <td>964983815</td>\n",
              "    </tr>\n",
              "    <tr>\n",
              "      <th>4</th>\n",
              "      <td>1</td>\n",
              "      <td>50</td>\n",
              "      <td>5.0</td>\n",
              "      <td>964982931</td>\n",
              "    </tr>\n",
              "  </tbody>\n",
              "</table>\n",
              "</div>\n",
              "      <button class=\"colab-df-convert\" onclick=\"convertToInteractive('df-6cbd2f95-f030-4fc6-921b-bd16453e6159')\"\n",
              "              title=\"Convert this dataframe to an interactive table.\"\n",
              "              style=\"display:none;\">\n",
              "        \n",
              "  <svg xmlns=\"http://www.w3.org/2000/svg\" height=\"24px\"viewBox=\"0 0 24 24\"\n",
              "       width=\"24px\">\n",
              "    <path d=\"M0 0h24v24H0V0z\" fill=\"none\"/>\n",
              "    <path d=\"M18.56 5.44l.94 2.06.94-2.06 2.06-.94-2.06-.94-.94-2.06-.94 2.06-2.06.94zm-11 1L8.5 8.5l.94-2.06 2.06-.94-2.06-.94L8.5 2.5l-.94 2.06-2.06.94zm10 10l.94 2.06.94-2.06 2.06-.94-2.06-.94-.94-2.06-.94 2.06-2.06.94z\"/><path d=\"M17.41 7.96l-1.37-1.37c-.4-.4-.92-.59-1.43-.59-.52 0-1.04.2-1.43.59L10.3 9.45l-7.72 7.72c-.78.78-.78 2.05 0 2.83L4 21.41c.39.39.9.59 1.41.59.51 0 1.02-.2 1.41-.59l7.78-7.78 2.81-2.81c.8-.78.8-2.07 0-2.86zM5.41 20L4 18.59l7.72-7.72 1.47 1.35L5.41 20z\"/>\n",
              "  </svg>\n",
              "      </button>\n",
              "      \n",
              "  <style>\n",
              "    .colab-df-container {\n",
              "      display:flex;\n",
              "      flex-wrap:wrap;\n",
              "      gap: 12px;\n",
              "    }\n",
              "\n",
              "    .colab-df-convert {\n",
              "      background-color: #E8F0FE;\n",
              "      border: none;\n",
              "      border-radius: 50%;\n",
              "      cursor: pointer;\n",
              "      display: none;\n",
              "      fill: #1967D2;\n",
              "      height: 32px;\n",
              "      padding: 0 0 0 0;\n",
              "      width: 32px;\n",
              "    }\n",
              "\n",
              "    .colab-df-convert:hover {\n",
              "      background-color: #E2EBFA;\n",
              "      box-shadow: 0px 1px 2px rgba(60, 64, 67, 0.3), 0px 1px 3px 1px rgba(60, 64, 67, 0.15);\n",
              "      fill: #174EA6;\n",
              "    }\n",
              "\n",
              "    [theme=dark] .colab-df-convert {\n",
              "      background-color: #3B4455;\n",
              "      fill: #D2E3FC;\n",
              "    }\n",
              "\n",
              "    [theme=dark] .colab-df-convert:hover {\n",
              "      background-color: #434B5C;\n",
              "      box-shadow: 0px 1px 3px 1px rgba(0, 0, 0, 0.15);\n",
              "      filter: drop-shadow(0px 1px 2px rgba(0, 0, 0, 0.3));\n",
              "      fill: #FFFFFF;\n",
              "    }\n",
              "  </style>\n",
              "\n",
              "      <script>\n",
              "        const buttonEl =\n",
              "          document.querySelector('#df-6cbd2f95-f030-4fc6-921b-bd16453e6159 button.colab-df-convert');\n",
              "        buttonEl.style.display =\n",
              "          google.colab.kernel.accessAllowed ? 'block' : 'none';\n",
              "\n",
              "        async function convertToInteractive(key) {\n",
              "          const element = document.querySelector('#df-6cbd2f95-f030-4fc6-921b-bd16453e6159');\n",
              "          const dataTable =\n",
              "            await google.colab.kernel.invokeFunction('convertToInteractive',\n",
              "                                                     [key], {});\n",
              "          if (!dataTable) return;\n",
              "\n",
              "          const docLinkHtml = 'Like what you see? Visit the ' +\n",
              "            '<a target=\"_blank\" href=https://colab.research.google.com/notebooks/data_table.ipynb>data table notebook</a>'\n",
              "            + ' to learn more about interactive tables.';\n",
              "          element.innerHTML = '';\n",
              "          dataTable['output_type'] = 'display_data';\n",
              "          await google.colab.output.renderOutput(dataTable, element);\n",
              "          const docLink = document.createElement('div');\n",
              "          docLink.innerHTML = docLinkHtml;\n",
              "          element.appendChild(docLink);\n",
              "        }\n",
              "      </script>\n",
              "    </div>\n",
              "  </div>\n",
              "  "
            ],
            "text/plain": [
              "   userId  movieId  rating  timestamp\n",
              "0       1        1     4.0  964982703\n",
              "1       1        3     4.0  964981247\n",
              "2       1        6     4.0  964982224\n",
              "3       1       47     5.0  964983815\n",
              "4       1       50     5.0  964982931"
            ]
          },
          "metadata": {},
          "execution_count": 5
        }
      ]
    },
    {
      "cell_type": "code",
      "source": [
        "def filtering_data(df,from_user, to_user, from_item, to_item):\n",
        "  if(from_user <= to_user and from_item <= to_item\n",
        "     and to_user < max(df[\"userId\"]) and to_item < max(df[\"movieId\"])\n",
        "     ):\n",
        "    return df[(df.userId >= from_user) & \n",
        "              (df.userId <= to_user) &\n",
        "              (df.movieId >= from_item) &\n",
        "              (df.movieId <= to_item)\n",
        "              ]\n",
        "  print(\"Error Range\")\n",
        "\n",
        "def getBatchForUser(data, u, batchSize):\n",
        "  if u >= len(data[\"userId\"].unique()):\n",
        "    print(\"INvalid UserId requested\")\n",
        "    return\n",
        "  if batchSize > len(data[data.userId == u]):\n",
        "    batchSize = len(data[data.userId == u])\n",
        "  return data[data.userId == u].sample(n=batchSize)"
      ],
      "metadata": {
        "id": "EKMuzxOjV4BK"
      },
      "execution_count": null,
      "outputs": []
    },
    {
      "cell_type": "code",
      "metadata": {
        "id": "fGV2LLrqcxCl"
      },
      "source": [
        "# split train and validation before encoding\n",
        "# np.random.seed(3)\n",
        "# msk = np.random.rand(len(data)) < 0.8\n",
        "# train = data[msk].copy()\n",
        "# val = data[~msk].copy()"
      ],
      "execution_count": null,
      "outputs": []
    },
    {
      "cell_type": "code",
      "metadata": {
        "id": "Al49AgtXc2m3"
      },
      "source": [
        ""
      ],
      "execution_count": null,
      "outputs": []
    },
    {
      "cell_type": "code",
      "metadata": {
        "id": "K5DmYZDpc4_V"
      },
      "source": [
        "# here is a handy function modified from fast.ai\n",
        "def proc_col(col, train_col=None):\n",
        "    \"\"\"Encodes a pandas column with continous ids. \n",
        "    \"\"\"\n",
        "    if train_col is not None:\n",
        "        uniq = train_col.unique()\n",
        "    else:\n",
        "        uniq = col.unique()\n",
        "    name2idx = {o:i for i,o in enumerate(uniq)}\n",
        "    return name2idx, np.array([name2idx.get(x, -1) for x in col]), len(uniq)\n",
        "    \n",
        "def encode_data(df, train=None):\n",
        "    \"\"\" Encodes rating data with continous user and movie ids. \n",
        "    If train is provided, encodes df with the same encoding as train.\n",
        "    \"\"\"\n",
        "    df = df.copy()\n",
        "    for col_name in [\"userId\", \"movieId\"]:\n",
        "        train_col = None\n",
        "        if train is not None:\n",
        "            train_col = train[col_name]\n",
        "        _,col,_ = proc_col(df[col_name], train_col)\n",
        "        df[col_name] = col\n",
        "        df = df[df[col_name] >= 0]\n",
        "    return df"
      ],
      "execution_count": null,
      "outputs": []
    },
    {
      "cell_type": "code",
      "metadata": {
        "id": "PTs0H8ysc7Vk"
      },
      "source": [
        "import torch\n",
        "import torch.nn as nn\n",
        "import torch.nn.functional as F"
      ],
      "execution_count": null,
      "outputs": []
    },
    {
      "cell_type": "code",
      "metadata": {
        "id": "qtAUKwkLe5J8"
      },
      "source": [
        "# encoding the train and validation data\n",
        "# df_train = encode_data(train)\n",
        "# df_val = encode_data(val, train)"
      ],
      "execution_count": null,
      "outputs": []
    },
    {
      "cell_type": "code",
      "source": [
        "# df_val.movieId.values"
      ],
      "metadata": {
        "id": "L8L215wIoPR4"
      },
      "execution_count": null,
      "outputs": []
    },
    {
      "cell_type": "code",
      "source": [
        "# df_train_numpy = df_train.to_numpy(dtype=int, copy=True)\n",
        "# # print((df_train_numpy))\n",
        "# diction={}\n",
        "# for i in range(len(df_train_numpy)):\n",
        "#   diction[df_train_numpy[i][0],df_train_numpy[i][1]] = df_train_numpy[i][2]"
      ],
      "metadata": {
        "id": "HueUy7FsS4YB"
      },
      "execution_count": null,
      "outputs": []
    },
    {
      "cell_type": "code",
      "metadata": {
        "id": "GruLv6NteLdk"
      },
      "source": [
        "class MF(nn.Module):\n",
        "    def __init__(self, userX_embedding, item_embed_mat, emb_size=100):\n",
        "        super(MF, self).__init__()\n",
        "        self.userX_embedding = userX_embedding\n",
        "        self.item_embed_mat = item_embed_mat\n",
        "        # print(userX_embedding.weight)\n",
        "        \n",
        "    def forward(self, u, v):\n",
        "        u = self.userX_embedding(u)\n",
        "        \n",
        "        v = self.item_embed_mat(v)\n",
        "        # print(\"u: \",u)\n",
        "        # print(\"v: \",v)\n",
        "        # print(len((u*v).sum(1)))\n",
        "        return (u*v).sum(1)"
      ],
      "execution_count": null,
      "outputs": []
    },
    {
      "cell_type": "code",
      "source": [
        "# emb_size=5\n",
        "# items = torch.LongTensor(df_train.movieId.unique()) #.cuda()\n",
        "# embx_item = nn.Embedding(num_items, emb_size)\n",
        "# embx_user = nn.Embedding(1,emb_size)\n",
        "# embx_user.weight.data.uniform_(0, 0.05)\n",
        "# embx_item.weight.data.uniform_(0, 0.05)\n",
        "\n",
        "# model01 = MF(embx_user,embx_item,5)\n",
        "\n"
      ],
      "metadata": {
        "id": "JBN4U81W_EMf"
      },
      "execution_count": null,
      "outputs": []
    },
    {
      "cell_type": "code",
      "source": [
        "# model01.userX_embedding.weight"
      ],
      "metadata": {
        "id": "OxQstTCALYJJ"
      },
      "execution_count": null,
      "outputs": []
    },
    {
      "cell_type": "code",
      "source": [
        "# pred = model01(torch.tensor([0]), torch.tensor(items[0]))"
      ],
      "metadata": {
        "id": "ImYiM7KaLgL3"
      },
      "execution_count": null,
      "outputs": []
    },
    {
      "cell_type": "code",
      "source": [
        "# model01.item_embed_mat.weight[0]"
      ],
      "metadata": {
        "id": "fX0vajH-STPi"
      },
      "execution_count": null,
      "outputs": []
    },
    {
      "cell_type": "code",
      "source": [
        "# print(pred,torch.tensor([diction[0,0]]))"
      ],
      "metadata": {
        "id": "wjtcrNiMWm66"
      },
      "execution_count": null,
      "outputs": []
    },
    {
      "cell_type": "code",
      "source": [
        "# optimizer = torch.optim.Adam(model01.parameters(), lr=0.01, weight_decay=0.0)\n",
        "# loss = F.mse_loss(pred,torch.FloatTensor([diction[0,0]]))\n",
        "# optimizer.zero_grad()\n",
        "# loss.backward()\n",
        "# optimizer.step()"
      ],
      "metadata": {
        "id": "9Ttxl73lW7lv"
      },
      "execution_count": null,
      "outputs": []
    },
    {
      "cell_type": "code",
      "source": [
        "# print(model01.item_embed_mat.weight[0])\n",
        "# print(model01.userX_embedding.weight)"
      ],
      "metadata": {
        "id": "bCtRM_3cX7iw"
      },
      "execution_count": null,
      "outputs": []
    },
    {
      "cell_type": "code",
      "metadata": {
        "id": "L8wIADslfG7-"
      },
      "source": [
        "# model = MF(num_users, num_items, emb_size=5) # .cuda() if you have a GPU"
      ],
      "execution_count": null,
      "outputs": []
    },
    {
      "cell_type": "code",
      "source": [
        "# print(len(df_train.movieId.unique()))\n",
        "# print(max(df_train.movieId.values))"
      ],
      "metadata": {
        "id": "DqtdpvnIZCtP"
      },
      "execution_count": null,
      "outputs": []
    },
    {
      "cell_type": "code",
      "source": [
        "def add_model_parameters(model1, model2):\n",
        "    # Adds the parameters of model1 to model2\n",
        "\n",
        "    params1 = model1.named_parameters()\n",
        "    params2 = model2.named_parameters()\n",
        "\n",
        "    dict_params2 = dict(params2)\n",
        "\n",
        "    for name1, param1 in params1:\n",
        "        if name1 in dict_params2 and name1 != 'userX_embedding.weight':\n",
        "            dict_params2[name1].data.copy_(param1.data + dict_params2[name1].data)\n",
        "\n",
        "    model2.load_state_dict(dict_params2)\n",
        "\n",
        "def sub_model_parameters(model1, model2):\n",
        "    # Subtracts the parameters of model2 with model1\n",
        "\n",
        "    params1 = model1.named_parameters()\n",
        "    params2 = model2.named_parameters()\n",
        "\n",
        "    dict_params2 = dict(params2)\n",
        "\n",
        "    for name1, param1 in params1:\n",
        "        if name1 in dict_params2 and name1 != 'userX_embedding.weight':\n",
        "            dict_params2[name1].data.copy_(dict_params2[name1].data - param1.data)\n",
        "\n",
        "    model2.load_state_dict(dict_params2)\n",
        "\n",
        "def divide_model_parameters(model, f):\n",
        "    # Divides model parameters except for the user embeddings with f\n",
        "    params1 = model.named_parameters()\n",
        "    params2 = model.named_parameters()\n",
        "    dict_params2 = dict(params2)\n",
        "    for name1, param1 in params1:\n",
        "        if name1 != 'userX_embedding.weight':\n",
        "            dict_params2[name1].data.copy_(param1.data / f)\n",
        "    model.load_state_dict(dict_params2)\n",
        "\n",
        "def zero_model_parameters(model):\n",
        "    # sets all parameters to zero\n",
        "\n",
        "    params1 = model.named_parameters()\n",
        "    params2 = model.named_parameters()\n",
        "    dict_params2 = dict(params2)\n",
        "    for name1, param1 in params1:\n",
        "        if name1 in dict_params2:\n",
        "            dict_params2[name1].data.copy_(param1.data - dict_params2[name1].data)\n",
        "\n",
        "    model.load_state_dict(dict_params2)"
      ],
      "metadata": {
        "id": "H-RAUV3onVp2"
      },
      "execution_count": null,
      "outputs": []
    },
    {
      "cell_type": "code",
      "source": [
        "class RMSELoss(nn.Module):\n",
        "    def __init__(self, eps=1e-6):\n",
        "        super().__init__()\n",
        "        self.mse = nn.MSELoss()\n",
        "        self.eps = eps\n",
        "        \n",
        "    def forward(self,yhat,y):\n",
        "        loss = torch.sqrt(self.mse(yhat,y) + self.eps)\n",
        "        return loss"
      ],
      "metadata": {
        "id": "PaEU707c5QQB"
      },
      "execution_count": null,
      "outputs": []
    },
    {
      "cell_type": "code",
      "metadata": {
        "id": "NYuOM0iWfJH0"
      },
      "source": [
        "def fed_train_client(model_server, df_train,epochs=10, lr=0.1):\n",
        "    \n",
        "    emb_size=5\n",
        "    los=[]\n",
        "    los_usr=[]\n",
        "    dict_los={}\n",
        "    user_emb_dict = {}\n",
        "    item_emb_mat_dict = {}\n",
        "\n",
        "    \n",
        "    model_diff = copy.deepcopy(model_server)\n",
        "    zero_model_parameters(model_diff)\n",
        "    # model02(torch.tensor([0]), torch.tensor(items[0]))\n",
        "    t1 = time.time()\n",
        "    \n",
        "    for user_id in range(len(df_train.userId.unique())):\n",
        "        \n",
        "        model02 = copy.deepcopy(model_server)\n",
        "        optimizer = torch.optim.Adam(model02.parameters(), lr=lr, weight_decay=1e-5)\n",
        "        batch = df_train[df_train.userId == user_id]\n",
        "        batch = batch.to_numpy(dtype=int, copy=True)\n",
        "        for e in range(epochs):\n",
        "            for data_point in batch:\n",
        "                # print(data_point)\n",
        "                y_hat = model02(torch.tensor([0]), torch.tensor(data_point[1]))\n",
        "\n",
        "                loss_fn = RMSELoss()\n",
        "                loss = loss_fn(y_hat,torch.FloatTensor([data_point[2]]))\n",
        "                optimizer.zero_grad()\n",
        "                loss.backward()\n",
        "                optimizer.step()\n",
        "                los.append(loss.item())\n",
        "            \n",
        "            los_usr.append(np.sqrt(np.sum([x**2 for x in los])/len(batch)))\n",
        "            los.clear()\n",
        "        # running_loss = running_loss/len(data_point)\n",
        "        user_emb_dict[user_id] = copy.deepcopy(model02.userX_embedding.weight)\n",
        "        item_emb_mat_dict[user_id] = copy.deepcopy(model02.item_embed_mat.weight)\n",
        "        \n",
        "        dict_los[user_id] = los_usr[len(los_usr)-1]\n",
        "        print(\"userId:\", user_id, \"training_loss: \", dict_los[user_id])\n",
        "        los_usr.clear()\n",
        "\n",
        "        sub_model_parameters(model_server, model02)\n",
        "        add_model_parameters(model02, model_diff)\n",
        "        \n",
        "    # Take the average of the MLP and item vectors\n",
        "    divide_model_parameters(model_diff, (len(df_train.userId.unique())))\n",
        "\n",
        "    # Update the global model by adding the total change\n",
        "    add_model_parameters(model_diff, model_server)\n",
        "\n",
        "    t2 = time.time()\n",
        "\n",
        "    print(\"Time of round:\", round(t2 - t1), \"seconds\")\n",
        "    return dict_los\n",
        "    # test_loss(model, unsqueeze)"
      ],
      "execution_count": null,
      "outputs": []
    },
    {
      "cell_type": "code",
      "source": [
        "def fed_eval(model, df_val):\n",
        "    los = []\n",
        "    los_usr = []\n",
        "    for user_id in range(len(df_val.userId.unique())):\n",
        "        batch = df_val[df_val.userId == user_id]\n",
        "        batch = batch.to_numpy(dtype=int, copy=True)\n",
        "        for data_point in batch:\n",
        "            y_hat = model(torch.tensor([0]), torch.tensor(data_point[1]))\n",
        "            # loss = RMSELoss(y_hat,torch.FloatTensor([data_point[2]]))\n",
        "            loss_fn = RMSELoss()\n",
        "            loss = loss_fn(y_hat,torch.FloatTensor([data_point[2]]))\n",
        "            los.append(loss.item())\n",
        "        los_usr.append(np.sqrt(np.sum([x**2 for x in los])/len(batch)))\n",
        "        los.clear()\n",
        "    return np.mean(los_usr),los_usr\n"
      ],
      "metadata": {
        "id": "wcWR8tjhuHii"
      },
      "execution_count": null,
      "outputs": []
    },
    {
      "cell_type": "code",
      "source": [
        "def Server(from_user, to_user, from_item, to_item, epochs, emb_size, rounds, lr):\n",
        "\n",
        " \n",
        "    Max_BatchSize_User = 20\n",
        "    lr = lr\n",
        "    eta = 80\n",
        "    \n",
        "    print(\"embedding size is: \",emb_size)\n",
        "    print(\"Max Batch Size is: \",Max_BatchSize_User)\n",
        "\n",
        "    avg_train_loss = []\n",
        "    dict_loss_train={}\n",
        "    avg_test_loss_vec = []\n",
        "    \n",
        "    filtered_data = filtering_data(data, from_user, to_user, from_item, to_item)\n",
        "    np.random.seed(3)\n",
        "    msk = np.random.rand(len(filtered_data)) < 0.8\n",
        "    train = filtered_data[msk].copy()\n",
        "    val = filtered_data[~msk].copy()\n",
        "    df_train = encode_data(train)\n",
        "    df_val = encode_data(val, train)\n",
        "\n",
        "    \n",
        "    embx_item = nn.Embedding(len(df_train.movieId.unique()), emb_size)\n",
        "    embx_user = nn.Embedding(1,emb_size)\n",
        "    if torch.cuda.is_available():\n",
        "        embx_user.weight.data.uniform_(0, 0.05).cuda()\n",
        "        embx_item.weight.data.uniform_(0, 0.05).cuda()\n",
        "    else:\n",
        "        embx_user.weight.data.uniform_(0, 0.05)\n",
        "        embx_item.weight.data.uniform_(0, 0.05)\n",
        "    model_server = MF(embx_user,embx_item,emb_size)\n",
        "\n",
        "    for t in range(rounds):  # for each round\n",
        "\n",
        "        print(\"Starting round\", t + 1)\n",
        "        # train one round\n",
        "        \n",
        "        dict_loss_train = fed_train_client(model_server, df_train, epochs=epochs, lr=lr)\n",
        "\n",
        "        avg_train_loss.append(np.mean([dict_loss_train[x] for x in dict_loss_train]))\n",
        "\n",
        "        print(\"Evaluating model...\")\n",
        "        avg_test_loss, test_loss_vec_userX = fed_eval(model_server, df_val)\n",
        "        avg_test_loss_vec.append(avg_test_loss)\n",
        "        print(\"Round \", t, \" computed test loss:\", avg_test_loss)\n",
        "    return avg_test_loss_vec, test_loss_vec_userX, avg_train_loss\n",
        "        "
      ],
      "metadata": {
        "id": "P4F6H_Y_ticR"
      },
      "execution_count": null,
      "outputs": []
    },
    {
      "cell_type": "code",
      "source": [
        "from_user = 1\n",
        "to_user = 300\n",
        "from_item = 1\n",
        "to_item = 10000\n",
        "epochs=10\n",
        "emb_size=100\n",
        "rounds=100\n",
        "lr=0.1\n",
        "avg_test_loss_vec, \\\n",
        "test_loss_vec_userX,\\\n",
        "avg_train_loss = Server(from_user, to_user, \n",
        "                        from_item, to_item, \n",
        "                        epochs, emb_size, rounds, lr)"
      ],
      "metadata": {
        "id": "K7lAh348j_jy",
        "colab": {
          "base_uri": "https://localhost:8080/"
        },
        "outputId": "1224118d-1252-4652-8301-fed078185ee8"
      },
      "execution_count": null,
      "outputs": [
        {
          "output_type": "stream",
          "name": "stdout",
          "text": [
            "embedding size is:  100\n",
            "Max Batch Size is:  20\n",
            "Starting round 1\n",
            "userId: 0 training_loss:  29.95471935048151\n",
            "userId: 1 training_loss:  1.1629414046347475\n",
            "userId: 2 training_loss:  30.468924103925943\n",
            "userId: 3 training_loss:  26.605604991537337\n",
            "userId: 4 training_loss:  32.7427961520338\n",
            "userId: 5 training_loss:  32.11221345887219\n",
            "userId: 6 training_loss:  25.874694461023072\n",
            "userId: 7 training_loss:  33.347907647675825\n",
            "userId: 8 training_loss:  10.32392958727665\n",
            "userId: 9 training_loss:  17.051162543438288\n",
            "userId: 10 training_loss:  20.41024979204911\n",
            "userId: 11 training_loss:  10.986932484834952\n",
            "userId: 12 training_loss:  27.869687808440627\n",
            "userId: 13 training_loss:  29.7610577620545\n",
            "userId: 14 training_loss:  24.717162821893947\n",
            "userId: 15 training_loss:  16.887302954061052\n",
            "userId: 16 training_loss:  19.285762453674305\n",
            "userId: 17 training_loss:  29.319342518004945\n",
            "userId: 18 training_loss:  39.28134819251093\n",
            "userId: 19 training_loss:  32.15972881298207\n",
            "userId: 20 training_loss:  28.645175733598627\n",
            "userId: 21 training_loss:  19.886505691460183\n",
            "userId: 22 training_loss:  22.391999240557052\n",
            "userId: 23 training_loss:  35.882404188767026\n",
            "userId: 24 training_loss:  1.812233111743227\n",
            "userId: 25 training_loss:  8.148023275145915\n",
            "userId: 26 training_loss:  18.276930885106488\n"
          ]
        }
      ]
    },
    {
      "cell_type": "code",
      "source": [
        "\n",
        "# from_user = 1\n",
        "# to_user = 3\n",
        "# from_item = 1\n",
        "# to_item = 10000\n",
        "# epochs=10\n",
        "# emb_size=20\n",
        "# rounds=100\n",
        "plt.xlabel('number of rounds')\n",
        "plt.ylabel('Average user test loss')\n",
        "print(\"total users: \", abs(from_user-to_user))\n",
        "print(\"total items: \", abs(from_item-to_item))\n",
        "print(\"Embedding size: \",emb_size)\n",
        "print(\"local epochs: \", epochs)\n",
        "plt.plot(np.arange(start=1, stop=len(avg_test_loss_vec)+1, step=1), avg_test_loss_vec, 'g--')\n",
        "plt.plot(np.arange(start=1, stop=len(avg_test_loss_vec)+1, step=1), avg_train_loss, 'b--')\n",
        "plt.legend([\"Test Loss\", \"Training loss\"])"
      ],
      "metadata": {
        "id": "Fx2h29Ra2Qy8"
      },
      "execution_count": null,
      "outputs": []
    },
    {
      "cell_type": "code",
      "metadata": {
        "id": "aZdaA4r7fZS0"
      },
      "source": [
        "class MF_bias(nn.Module):\n",
        "    def __init__(self, num_users, num_items, emb_size=100):\n",
        "        super(MF_bias, self).__init__()\n",
        "        self.user_emb = nn.Embedding(num_users, emb_size)\n",
        "        self.user_bias = nn.Embedding(num_users, 1)\n",
        "        self.item_emb = nn.Embedding(num_items, emb_size)\n",
        "        self.item_bias = nn.Embedding(num_items, 1)\n",
        "        self.user_emb.weight.data.uniform_(0,0.05)\n",
        "        self.item_emb.weight.data.uniform_(0,0.05)\n",
        "        self.user_bias.weight.data.uniform_(-0.01,0.01)\n",
        "        self.item_bias.weight.data.uniform_(-0.01,0.01)\n",
        "        \n",
        "    def forward(self, u, v):\n",
        "        U = self.user_emb(u)\n",
        "        V = self.item_emb(v)\n",
        "        b_u = self.user_bias(u).squeeze()\n",
        "        b_v = self.item_bias(v).squeeze()\n",
        "        return (U*V).sum(1) +  b_u  + b_v"
      ],
      "execution_count": null,
      "outputs": []
    },
    {
      "cell_type": "code",
      "metadata": {
        "id": "wJuYmvy6fqnk"
      },
      "source": [
        "# model = MF_bias(num_users, num_items, emb_size=100) #.cuda()"
      ],
      "execution_count": null,
      "outputs": []
    },
    {
      "cell_type": "code",
      "metadata": {
        "id": "jV86th6hfsyU"
      },
      "source": [
        "# train_epocs(model, epochs=10, lr=0.05, wd=1e-5)"
      ],
      "execution_count": null,
      "outputs": []
    },
    {
      "cell_type": "code",
      "metadata": {
        "id": "AlI3eX5yfusz"
      },
      "source": [
        "# train_epocs(model, epochs=10, lr=0.01, wd=1e-5)"
      ],
      "execution_count": null,
      "outputs": []
    },
    {
      "cell_type": "code",
      "metadata": {
        "id": "TD5XdcnZfwZV"
      },
      "source": [
        "# train_epocs(model, epochs=10, lr=0.001, wd=1e-5)"
      ],
      "execution_count": null,
      "outputs": []
    },
    {
      "cell_type": "code",
      "metadata": {
        "id": "xoqqAbVwfyxZ"
      },
      "source": [
        ""
      ],
      "execution_count": null,
      "outputs": []
    }
  ]
}