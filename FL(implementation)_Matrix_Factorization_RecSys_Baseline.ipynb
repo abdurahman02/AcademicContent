{
  "nbformat": 4,
  "nbformat_minor": 0,
  "metadata": {
    "colab": {
      "name": "Matrix Factorization_RecSys_Baseline.ipynb",
      "provenance": [],
      "authorship_tag": "ABX9TyPcTmu1euGfjIBexbsyn/TM",
      "include_colab_link": true
    },
    "kernelspec": {
      "name": "python3",
      "display_name": "Python 3"
    },
    "language_info": {
      "name": "python"
    },
    "accelerator": "GPU"
  },
  "cells": [
    {
      "cell_type": "markdown",
      "metadata": {
        "id": "view-in-github",
        "colab_type": "text"
      },
      "source": [
        "<a href=\"https://colab.research.google.com/github/abdurahman02/AcademicContent/blob/master/FL(implementation)_Matrix_Factorization_RecSys_Baseline.ipynb\" target=\"_parent\"><img src=\"https://colab.research.google.com/assets/colab-badge.svg\" alt=\"Open In Colab\"/></a>"
      ]
    },
    {
      "cell_type": "code",
      "execution_count": 1,
      "metadata": {
        "id": "O7hmKYDxPDsi"
      },
      "outputs": [],
      "source": [
        "import torch\n",
        "import torch.nn as nn\n",
        "import torch.nn.functional as F\n",
        "from pathlib import Path\n",
        "import pandas as pd\n",
        "import numpy as np\n",
        "import os"
      ]
    },
    {
      "cell_type": "code",
      "source": [
        "!git clone \"https://github.com/abdurahman02/ml-latest-small.git\"\n",
        "os.chdir(\"ml-latest-small\")\n",
        "os.listdir()"
      ],
      "metadata": {
        "colab": {
          "base_uri": "https://localhost:8080/"
        },
        "id": "ycunta1iPrA_",
        "outputId": "47887376-342d-45be-d156-9e93a9631e38"
      },
      "execution_count": 2,
      "outputs": [
        {
          "output_type": "stream",
          "name": "stdout",
          "text": [
            "Cloning into 'ml-latest-small'...\n",
            "remote: Enumerating objects: 32, done.\u001b[K\n",
            "remote: Counting objects: 100% (32/32), done.\u001b[K\n",
            "remote: Compressing objects: 100% (32/32), done.\u001b[K\n",
            "remote: Total 32 (delta 13), reused 0 (delta 0), pack-reused 0\u001b[K\n",
            "Unpacking objects: 100% (32/32), done.\n"
          ]
        },
        {
          "output_type": "execute_result",
          "data": {
            "text/plain": [
              "['links.csv',\n",
              " 'tags.csv',\n",
              " 'results_02.txt',\n",
              " 'results.md',\n",
              " 'ratings.csv',\n",
              " 'README.md',\n",
              " 'movies.csv',\n",
              " '.git']"
            ]
          },
          "metadata": {},
          "execution_count": 2
        }
      ]
    },
    {
      "cell_type": "code",
      "source": [
        "data = pd.read_csv(\"ratings.csv\")\n",
        "data.head()"
      ],
      "metadata": {
        "colab": {
          "base_uri": "https://localhost:8080/",
          "height": 206
        },
        "id": "amBeKnejP9uE",
        "outputId": "fbe569bc-0619-48b7-9cdc-bf641503bcf0"
      },
      "execution_count": 3,
      "outputs": [
        {
          "output_type": "execute_result",
          "data": {
            "text/html": [
              "\n",
              "  <div id=\"df-7ac59034-1ff4-40de-9617-dfcbb0d8b75b\">\n",
              "    <div class=\"colab-df-container\">\n",
              "      <div>\n",
              "<style scoped>\n",
              "    .dataframe tbody tr th:only-of-type {\n",
              "        vertical-align: middle;\n",
              "    }\n",
              "\n",
              "    .dataframe tbody tr th {\n",
              "        vertical-align: top;\n",
              "    }\n",
              "\n",
              "    .dataframe thead th {\n",
              "        text-align: right;\n",
              "    }\n",
              "</style>\n",
              "<table border=\"1\" class=\"dataframe\">\n",
              "  <thead>\n",
              "    <tr style=\"text-align: right;\">\n",
              "      <th></th>\n",
              "      <th>userId</th>\n",
              "      <th>movieId</th>\n",
              "      <th>rating</th>\n",
              "      <th>timestamp</th>\n",
              "    </tr>\n",
              "  </thead>\n",
              "  <tbody>\n",
              "    <tr>\n",
              "      <th>0</th>\n",
              "      <td>1</td>\n",
              "      <td>1</td>\n",
              "      <td>4.0</td>\n",
              "      <td>964982703</td>\n",
              "    </tr>\n",
              "    <tr>\n",
              "      <th>1</th>\n",
              "      <td>1</td>\n",
              "      <td>3</td>\n",
              "      <td>4.0</td>\n",
              "      <td>964981247</td>\n",
              "    </tr>\n",
              "    <tr>\n",
              "      <th>2</th>\n",
              "      <td>1</td>\n",
              "      <td>6</td>\n",
              "      <td>4.0</td>\n",
              "      <td>964982224</td>\n",
              "    </tr>\n",
              "    <tr>\n",
              "      <th>3</th>\n",
              "      <td>1</td>\n",
              "      <td>47</td>\n",
              "      <td>5.0</td>\n",
              "      <td>964983815</td>\n",
              "    </tr>\n",
              "    <tr>\n",
              "      <th>4</th>\n",
              "      <td>1</td>\n",
              "      <td>50</td>\n",
              "      <td>5.0</td>\n",
              "      <td>964982931</td>\n",
              "    </tr>\n",
              "  </tbody>\n",
              "</table>\n",
              "</div>\n",
              "      <button class=\"colab-df-convert\" onclick=\"convertToInteractive('df-7ac59034-1ff4-40de-9617-dfcbb0d8b75b')\"\n",
              "              title=\"Convert this dataframe to an interactive table.\"\n",
              "              style=\"display:none;\">\n",
              "        \n",
              "  <svg xmlns=\"http://www.w3.org/2000/svg\" height=\"24px\"viewBox=\"0 0 24 24\"\n",
              "       width=\"24px\">\n",
              "    <path d=\"M0 0h24v24H0V0z\" fill=\"none\"/>\n",
              "    <path d=\"M18.56 5.44l.94 2.06.94-2.06 2.06-.94-2.06-.94-.94-2.06-.94 2.06-2.06.94zm-11 1L8.5 8.5l.94-2.06 2.06-.94-2.06-.94L8.5 2.5l-.94 2.06-2.06.94zm10 10l.94 2.06.94-2.06 2.06-.94-2.06-.94-.94-2.06-.94 2.06-2.06.94z\"/><path d=\"M17.41 7.96l-1.37-1.37c-.4-.4-.92-.59-1.43-.59-.52 0-1.04.2-1.43.59L10.3 9.45l-7.72 7.72c-.78.78-.78 2.05 0 2.83L4 21.41c.39.39.9.59 1.41.59.51 0 1.02-.2 1.41-.59l7.78-7.78 2.81-2.81c.8-.78.8-2.07 0-2.86zM5.41 20L4 18.59l7.72-7.72 1.47 1.35L5.41 20z\"/>\n",
              "  </svg>\n",
              "      </button>\n",
              "      \n",
              "  <style>\n",
              "    .colab-df-container {\n",
              "      display:flex;\n",
              "      flex-wrap:wrap;\n",
              "      gap: 12px;\n",
              "    }\n",
              "\n",
              "    .colab-df-convert {\n",
              "      background-color: #E8F0FE;\n",
              "      border: none;\n",
              "      border-radius: 50%;\n",
              "      cursor: pointer;\n",
              "      display: none;\n",
              "      fill: #1967D2;\n",
              "      height: 32px;\n",
              "      padding: 0 0 0 0;\n",
              "      width: 32px;\n",
              "    }\n",
              "\n",
              "    .colab-df-convert:hover {\n",
              "      background-color: #E2EBFA;\n",
              "      box-shadow: 0px 1px 2px rgba(60, 64, 67, 0.3), 0px 1px 3px 1px rgba(60, 64, 67, 0.15);\n",
              "      fill: #174EA6;\n",
              "    }\n",
              "\n",
              "    [theme=dark] .colab-df-convert {\n",
              "      background-color: #3B4455;\n",
              "      fill: #D2E3FC;\n",
              "    }\n",
              "\n",
              "    [theme=dark] .colab-df-convert:hover {\n",
              "      background-color: #434B5C;\n",
              "      box-shadow: 0px 1px 3px 1px rgba(0, 0, 0, 0.15);\n",
              "      filter: drop-shadow(0px 1px 2px rgba(0, 0, 0, 0.3));\n",
              "      fill: #FFFFFF;\n",
              "    }\n",
              "  </style>\n",
              "\n",
              "      <script>\n",
              "        const buttonEl =\n",
              "          document.querySelector('#df-7ac59034-1ff4-40de-9617-dfcbb0d8b75b button.colab-df-convert');\n",
              "        buttonEl.style.display =\n",
              "          google.colab.kernel.accessAllowed ? 'block' : 'none';\n",
              "\n",
              "        async function convertToInteractive(key) {\n",
              "          const element = document.querySelector('#df-7ac59034-1ff4-40de-9617-dfcbb0d8b75b');\n",
              "          const dataTable =\n",
              "            await google.colab.kernel.invokeFunction('convertToInteractive',\n",
              "                                                     [key], {});\n",
              "          if (!dataTable) return;\n",
              "\n",
              "          const docLinkHtml = 'Like what you see? Visit the ' +\n",
              "            '<a target=\"_blank\" href=https://colab.research.google.com/notebooks/data_table.ipynb>data table notebook</a>'\n",
              "            + ' to learn more about interactive tables.';\n",
              "          element.innerHTML = '';\n",
              "          dataTable['output_type'] = 'display_data';\n",
              "          await google.colab.output.renderOutput(dataTable, element);\n",
              "          const docLink = document.createElement('div');\n",
              "          docLink.innerHTML = docLinkHtml;\n",
              "          element.appendChild(docLink);\n",
              "        }\n",
              "      </script>\n",
              "    </div>\n",
              "  </div>\n",
              "  "
            ],
            "text/plain": [
              "   userId  movieId  rating  timestamp\n",
              "0       1        1     4.0  964982703\n",
              "1       1        3     4.0  964981247\n",
              "2       1        6     4.0  964982224\n",
              "3       1       47     5.0  964983815\n",
              "4       1       50     5.0  964982931"
            ]
          },
          "metadata": {},
          "execution_count": 3
        }
      ]
    },
    {
      "cell_type": "code",
      "source": [
        "# split train and validation before encoding\n",
        "np.random.seed(3)\n",
        "msk = np.random.rand(len(data)) < 0.8\n",
        "train = data[msk].copy()\n",
        "val = data[~msk].copy()"
      ],
      "metadata": {
        "id": "LCh0JIsUPutc"
      },
      "execution_count": 4,
      "outputs": []
    },
    {
      "cell_type": "code",
      "source": [
        "# here is a handy function modified from fast.ai\n",
        "def proc_col(col, train_col=None):\n",
        "    \"\"\"Encodes a pandas column with continous ids. \n",
        "    \"\"\"\n",
        "    if train_col is not None:\n",
        "        uniq = train_col.unique()\n",
        "    else:\n",
        "        uniq = col.unique()\n",
        "    name2idx = {o:i for i,o in enumerate(uniq)}\n",
        "    return name2idx, np.array([name2idx.get(x, -1) for x in col]), len(uniq)\n",
        "\n",
        "def encode_data(df, train=None):\n",
        "    \"\"\" Encodes rating data with continous user and movie ids. \n",
        "    If train is provided, encodes df with the same encoding as train.\n",
        "    \"\"\"\n",
        "    df = df.copy()\n",
        "    for col_name in [\"userId\", \"movieId\"]:\n",
        "        train_col = None\n",
        "        if train is not None:\n",
        "            train_col = train[col_name]\n",
        "        _,col,_ = proc_col(df[col_name], train_col)\n",
        "        df[col_name] = col\n",
        "        df = df[df[col_name] >= 0]\n",
        "    return df"
      ],
      "metadata": {
        "id": "3BzpRQQrP1NX"
      },
      "execution_count": 5,
      "outputs": []
    },
    {
      "cell_type": "code",
      "source": [
        "# encoding the train and validation data\n",
        "df_train = encode_data(train)\n",
        "df_val = encode_data(val, train)"
      ],
      "metadata": {
        "id": "YJf2E3lRQKft"
      },
      "execution_count": 6,
      "outputs": []
    },
    {
      "cell_type": "code",
      "source": [
        "# for user_id in df_train.userId.unique():\n",
        "sel_rows_of_user_i = df_train[(df_train.userId == 1)]\n",
        "print(sel_rows_of_user_i)\n",
        "print(sel_rows_of_user_i.movieId.values)\n",
        "print(sel_rows_of_user_i.rating.values)"
      ],
      "metadata": {
        "id": "jGMlI0-5CmxB",
        "outputId": "9ff93190-8e81-4c91-9d55-37b54e2f82e3",
        "colab": {
          "base_uri": "https://localhost:8080/"
        }
      },
      "execution_count": 19,
      "outputs": [
        {
          "output_type": "stream",
          "name": "stdout",
          "text": [
            "     userId  movieId  rating   timestamp\n",
            "232       1      193     3.0  1445714835\n",
            "234       1      194     4.5  1445715228\n",
            "235       1      180     4.0  1445714885\n",
            "237       1      195     3.5  1445714960\n",
            "238       1      196     4.0  1445715013\n",
            "239       1      197     4.0  1445715064\n",
            "240       1      198     4.5  1445715141\n",
            "241       1      199     5.0  1445714980\n",
            "242       1      200     4.5  1445715154\n",
            "243       1      201     3.0  1445714974\n",
            "244       1      202     4.0  1445714926\n",
            "245       1      203     3.0  1445714941\n",
            "246       1      204     4.0  1445714841\n",
            "247       1      205     4.5  1445715340\n",
            "248       1      206     5.0  1445715172\n",
            "251       1      207     3.5  1445714891\n",
            "252       1      208     2.5  1445714938\n",
            "253       1      209     3.5  1445714874\n",
            "254       1      210     5.0  1445714966\n",
            "256       1      211     4.0  1445714882\n",
            "258       1      212     3.5  1445714854\n",
            "260       1      213     5.0  1445714851\n",
            "[193 194 180 195 196 197 198 199 200 201 202 203 204 205 206 207 208 209\n",
            " 210 211 212 213]\n",
            "[3.  4.5 4.  3.5 4.  4.  4.5 5.  4.5 3.  4.  3.  4.  4.5 5.  3.5 2.5 3.5\n",
            " 5.  4.  3.5 5. ]\n"
          ]
        }
      ]
    },
    {
      "cell_type": "code",
      "source": [
        "num_users = len(df_train.userId.unique())\n",
        "num_items = len(df_train.movieId.unique())\n",
        "print(num_users, num_items)"
      ],
      "metadata": {
        "colab": {
          "base_uri": "https://localhost:8080/"
        },
        "id": "bxrje2oDQf51",
        "outputId": "42c44683-bd54-47eb-9b00-b6569bcf97ca"
      },
      "execution_count": 7,
      "outputs": [
        {
          "output_type": "stream",
          "name": "stdout",
          "text": [
            "610 8998\n"
          ]
        }
      ]
    },
    {
      "cell_type": "code",
      "source": [
        "class MF(nn.Module):\n",
        "    def __init__(self, num_users, num_items, emb_size=100):\n",
        "        super(MF, self).__init__()\n",
        "        self.user_emb = nn.Embedding(num_users, emb_size)\n",
        "        self.item_emb = nn.Embedding(num_items, emb_size)\n",
        "        self.user_emb.weight.data.uniform_(0, 0.05)\n",
        "        self.item_emb.weight.data.uniform_(0, 0.05)\n",
        "        \n",
        "    def forward(self, u, v):\n",
        "        u = self.user_emb(u)\n",
        "        v = self.item_emb(v)\n",
        "        return (u*v).sum(1)"
      ],
      "metadata": {
        "id": "zL_ET6b2QM8P"
      },
      "execution_count": 8,
      "outputs": []
    },
    {
      "cell_type": "code",
      "source": [
        "if torch.cuda.is_available():\n",
        "  model = MF(num_users, num_items, emb_size=100).cuda()\n",
        "else:\n",
        "  model = MF(num_users, num_items, emb_size=100)"
      ],
      "metadata": {
        "id": "ypj5lE7jQOvH"
      },
      "execution_count": 9,
      "outputs": []
    },
    {
      "cell_type": "code",
      "source": [
        "def test_loss(model, unsqueeze=False):\n",
        "    model.eval()\n",
        "    if torch.cuda.is_available():\n",
        "      users = torch.LongTensor(df_val.userId.values).cuda()\n",
        "      items = torch.LongTensor(df_val.movieId.values).cuda()\n",
        "      ratings = torch.FloatTensor(df_val.rating.values).cuda()\n",
        "    else:\n",
        "      users = torch.LongTensor(df_val.userId.values)\n",
        "      items = torch.LongTensor(df_val.movieId.values)\n",
        "      ratings = torch.FloatTensor(df_val.rating.values)\n",
        "    if unsqueeze:\n",
        "        ratings = ratings.unsqueeze(1)\n",
        "    y_hat = model(users, items)\n",
        "    loss = F.mse_loss(y_hat, ratings)\n",
        "    print(\"test loss %.3f \" % loss.item())"
      ],
      "metadata": {
        "id": "QglDkZOEQtZ_"
      },
      "execution_count": 10,
      "outputs": []
    },
    {
      "cell_type": "code",
      "source": [
        "def train_epocs(model, epochs=10, lr=0.01, wd=0.0, unsqueeze=False):\n",
        "    optimizer = torch.optim.Adam(model.parameters(), lr=lr, weight_decay=wd)\n",
        "    model.train()\n",
        "    for i in range(epochs):\n",
        "      for user_id in df_train.userId.unique():\n",
        "        sel_rows_of_user_i = df_train[(df_train.userId == 1)]\n",
        "\n",
        "        if torch.cuda.is_available():\n",
        "            users = torch.LongTensor(sel_rows_of_user_i.userId.values).cuda()\n",
        "            items = torch.LongTensor(sel_rows_of_user_i.movieId.values).cuda()\n",
        "            ratings = torch.FloatTensor(sel_rows_of_user_i.rating.values).cuda()\n",
        "        else:\n",
        "            users = torch.LongTensor(sel_rows_of_user_i.userId.values) # .cuda()\n",
        "            items = torch.LongTensor(sel_rows_of_user_i.movieId.values) #.cuda()\n",
        "            ratings = torch.FloatTensor(sel_rows_of_user_i.rating.values) #.cuda()\n",
        "        if unsqueeze:\n",
        "            ratings = ratings.unsqueeze(1)\n",
        "\n",
        "        y_hat = model(users, items)\n",
        "        loss = F.mse_loss(y_hat, ratings)\n",
        "        optimizer.zero_grad()\n",
        "        loss.backward()\n",
        "        optimizer.step()\n",
        "        if user_id%100 == 0:\n",
        "          print(user_id,loss.item()) \n",
        "    test_loss(model, unsqueeze)"
      ],
      "metadata": {
        "id": "LeajHxqjQisA"
      },
      "execution_count": 29,
      "outputs": []
    },
    {
      "cell_type": "code",
      "source": [
        "# Here is what unsqueeze does\n",
        "ratings = torch.FloatTensor(df_train.rating.values)\n",
        "print(ratings.shape)\n",
        "ratings = ratings.unsqueeze(1) # .cuda()\n",
        "print(ratings.shape)"
      ],
      "metadata": {
        "colab": {
          "base_uri": "https://localhost:8080/"
        },
        "id": "7yrvrRbGRYXv",
        "outputId": "d2d51596-f831-4239-8943-157710b98a36"
      },
      "execution_count": 30,
      "outputs": [
        {
          "output_type": "stream",
          "name": "stdout",
          "text": [
            "torch.Size([80450])\n",
            "torch.Size([80450, 1])\n"
          ]
        }
      ]
    },
    {
      "cell_type": "code",
      "source": [
        "train_epocs(model, epochs=10, lr=0.1)"
      ],
      "metadata": {
        "colab": {
          "base_uri": "https://localhost:8080/"
        },
        "id": "V7G8xZryRY6O",
        "outputId": "378de233-1f56-47a3-f4e8-f4f9486417b8"
      },
      "execution_count": 31,
      "outputs": [
        {
          "output_type": "stream",
          "name": "stdout",
          "text": [
            "0 3.979039320256561e-13\n",
            "100 0.0010035716695711017\n",
            "200 0.058999087661504745\n",
            "300 2.961804170809046e-07\n",
            "400 3.361939393542457e-09\n",
            "500 1.041718064698216e-06\n",
            "600 1.4228940942162538e-11\n",
            "0 7.5446723521444e-12\n",
            "100 3.2943344233093974e-12\n",
            "200 1.3404711368680822e-11\n",
            "300 0.00035325504723004997\n",
            "400 4.9855244377283725e-09\n",
            "500 4.994469681579572e-12\n",
            "600 0.0072554354555904865\n",
            "0 0.002578369341790676\n",
            "100 3.2459460896916426e-08\n",
            "200 1.8835842174186324e-12\n",
            "300 3.4726160749037893e-12\n",
            "400 5.211507874552934e-12\n",
            "500 1.1332510450878797e-11\n",
            "600 2.618207872728817e-10\n",
            "0 6.193299650902873e-09\n",
            "100 1.7896709891829232e-07\n",
            "200 4.265323511054575e-11\n",
            "300 1.6624117013530615e-11\n",
            "400 0.00010674203076632693\n",
            "500 1.5148771126405336e-09\n",
            "600 6.699771987195291e-11\n",
            "0 1.9962632935577318e-10\n",
            "100 1.1914439710380975e-05\n",
            "200 8.525970485173673e-10\n",
            "300 1.98435213573378e-12\n",
            "400 2.046905700492374e-10\n",
            "500 5.755516667704796e-06\n",
            "600 2.772020946117948e-10\n",
            "0 4.247236937149346e-11\n",
            "100 6.541902436429936e-11\n",
            "200 2.6798556064022705e-05\n",
            "300 1.4698287031933432e-09\n",
            "400 6.185597607039073e-12\n",
            "500 3.221405859221704e-05\n",
            "600 1.887607181672024e-09\n",
            "0 1.2639082003218505e-09\n",
            "100 1.7879839319182023e-12\n",
            "200 0.00011660962627502158\n",
            "300 3.4380063240746495e-09\n",
            "400 2.702646266505848e-12\n",
            "500 7.929656931082718e-12\n",
            "600 1.9200832843780518\n",
            "0 0.6323171257972717\n",
            "100 3.2682568416930735e-05\n",
            "200 7.654276656943182e-10\n",
            "300 6.201100424168063e-14\n",
            "400 2.5837918434033595e-15\n",
            "500 2.5837918434033595e-15\n",
            "600 2.5837918434033595e-15\n",
            "0 2.5837918434033595e-15\n",
            "100 2.5837918434033595e-15\n",
            "200 2.5837918434033595e-15\n",
            "300 2.5837918434033595e-15\n",
            "400 2.5837918434033595e-15\n",
            "500 2.5837918434033595e-15\n",
            "600 2.5837918434033595e-15\n",
            "0 2.5837918434033595e-15\n",
            "100 2.5837918434033595e-15\n",
            "200 2.5837918434033595e-15\n",
            "300 2.5837918434033595e-15\n",
            "400 2.5837918434033595e-15\n",
            "500 2.5837918434033595e-15\n",
            "600 2.5837918434033595e-15\n",
            "test loss 1.175 \n"
          ]
        }
      ]
    },
    {
      "cell_type": "code",
      "source": [
        "train_epocs(model, epochs=15, lr=0.01)"
      ],
      "metadata": {
        "colab": {
          "base_uri": "https://localhost:8080/"
        },
        "id": "okrTU-siRidA",
        "outputId": "aeccd76e-8194-4c41-82e9-44e32886b187"
      },
      "execution_count": null,
      "outputs": [
        {
          "output_type": "stream",
          "name": "stdout",
          "text": [
            "0 2.5837918434033595e-15\n",
            "100 5.693642037840618e-07\n",
            "200 8.686707603233756e-12\n",
            "300 3.3330914525793454e-13\n",
            "400 4.90920455328836e-13\n",
            "500 9.301650161913644e-13\n",
            "600 0.0007885022205300629\n",
            "0 0.00019902644271496683\n",
            "100 1.6905569166780765e-09\n",
            "200 8.30066801427165e-06\n",
            "300 8.740319401567831e-08\n",
            "400 1.294738014717689e-11\n",
            "500 3.527635635691695e-05\n",
            "600 4.694956090567359e-10\n",
            "0 6.387701478871577e-10\n",
            "100 5.2612758736358956e-06\n",
            "200 6.404350187949603e-06\n",
            "300 3.2273161920670645e-09\n",
            "400 0.0013321711448952556\n",
            "500 1.3780270364804892e-06\n",
            "600 3.962474792729154e-09\n",
            "0 3.7530920593553674e-08\n",
            "100 1.5008729814525168e-09\n",
            "200 2.802619007979956e-07\n",
            "300 5.605516761875151e-08\n",
            "400 1.1929625065576488e-09\n",
            "500 1.006148863780254e-06\n",
            "600 5.660980306743113e-08\n",
            "0 3.0181254828676174e-08\n",
            "100 0.00023827505356166512\n",
            "200 0.00010964965622406453\n",
            "300 7.186801376235508e-09\n",
            "400 3.381131318747066e-05\n",
            "500 8.878656080923975e-05\n",
            "600 7.247378253083525e-09\n",
            "0 4.315260593301673e-09\n",
            "100 2.467786828219687e-07\n",
            "200 0.0005630832747556269\n",
            "300 1.5832284816497122e-08\n",
            "400 7.353492037509568e-06\n",
            "500 3.3973579505186535e-09\n",
            "600 3.5622242648969404e-06\n",
            "0 1.3152642850400298e-06\n",
            "100 6.4987686343442874e-09\n",
            "200 9.188865845999317e-08\n",
            "300 7.552532770205289e-05\n",
            "400 7.932514201058893e-09\n",
            "500 2.499061793059809e-06\n",
            "600 8.409105078932555e-10\n",
            "0 4.320774404931171e-09\n",
            "100 1.7696036991310393e-07\n",
            "200 5.7707777159521356e-05\n",
            "300 1.3309708002395837e-08\n",
            "400 4.7521973556285957e-07\n",
            "500 9.738569950457077e-10\n",
            "600 1.4052554888621671e-06\n",
            "0 6.544810844388849e-07\n",
            "100 2.4044659596711426e-08\n",
            "200 6.87073864469312e-08\n",
            "300 4.852465167459741e-07\n",
            "400 5.188718898985201e-10\n",
            "500 1.6668377611495089e-06\n",
            "600 3.4330840253948836e-11\n",
            "0 2.3243790572835543e-11\n",
            "100 1.1504151871122303e-06\n",
            "200 1.6859972902238951e-06\n",
            "300 1.9882787455571815e-05\n",
            "400 2.4003407261830034e-08\n",
            "500 3.095186184509657e-05\n",
            "600 4.9833207782512545e-08\n",
            "0 1.2166770702037866e-08\n",
            "100 3.802652645390481e-05\n",
            "200 1.1875788175075286e-07\n",
            "300 3.592303343680214e-08\n",
            "400 0.0002505881420802325\n",
            "500 3.100240064668469e-09\n",
            "600 9.729445082484744e-06\n",
            "0 5.900187716179062e-06\n",
            "100 5.216386853135191e-05\n",
            "200 6.053490597679456e-09\n",
            "300 8.480441806568706e-07\n",
            "400 7.544594393671389e-10\n",
            "500 1.6769577996456064e-05\n",
            "600 1.3751217011304107e-05\n",
            "0 1.5251494914991781e-05\n",
            "100 3.472075695754029e-05\n",
            "200 0.00013964036770630628\n",
            "300 4.230404471172733e-08\n",
            "400 0.0002034590725088492\n",
            "500 3.539756043835496e-09\n",
            "600 2.5669876777101308e-05\n",
            "0 1.1682557669701055e-05\n",
            "100 0.00034845893969759345\n",
            "200 2.755338535109786e-08\n",
            "300 3.754230647246004e-06\n",
            "400 8.214364743963642e-10\n",
            "500 1.165110370493494e-05\n"
          ]
        }
      ]
    },
    {
      "cell_type": "code",
      "source": [
        "train_epocs(model, epochs=15, lr=0.01)"
      ],
      "metadata": {
        "colab": {
          "base_uri": "https://localhost:8080/"
        },
        "id": "hVDWG3I2RmAa",
        "outputId": "2f23c810-ad79-44b3-8028-5300f5d3576f"
      },
      "execution_count": 15,
      "outputs": [
        {
          "output_type": "stream",
          "name": "stdout",
          "text": [
            "0.668438196182251\n",
            "0.6314186453819275\n",
            "0.6382811069488525\n",
            "0.6136514544487\n",
            "0.6053114533424377\n",
            "0.613705575466156\n",
            "0.6110225915908813\n",
            "0.5961105227470398\n",
            "0.58441162109375\n",
            "0.5828033685684204\n",
            "0.5837610363960266\n",
            "0.5786066651344299\n",
            "0.5678828358650208\n",
            "0.5577182173728943\n",
            "0.5515027046203613\n",
            "test loss 0.759 \n"
          ]
        }
      ]
    },
    {
      "cell_type": "code",
      "source": [
        "class MF_bias(nn.Module):\n",
        "    def __init__(self, num_users, num_items, emb_size=100):\n",
        "        super(MF_bias, self).__init__()\n",
        "        self.user_emb = nn.Embedding(num_users, emb_size)\n",
        "        self.user_bias = nn.Embedding(num_users, 1)\n",
        "        self.item_emb = nn.Embedding(num_items, emb_size)\n",
        "        self.item_bias = nn.Embedding(num_items, 1)\n",
        "        self.user_emb.weight.data.uniform_(0,0.05)\n",
        "        self.item_emb.weight.data.uniform_(0,0.05)\n",
        "        self.user_bias.weight.data.uniform_(-0.01,0.01)\n",
        "        self.item_bias.weight.data.uniform_(-0.01,0.01)\n",
        "        \n",
        "    def forward(self, u, v):\n",
        "        U = self.user_emb(u)\n",
        "        V = self.item_emb(v)\n",
        "        b_u = self.user_bias(u).squeeze()\n",
        "        b_v = self.item_bias(v).squeeze()\n",
        "        return (U*V).sum(1) +  b_u  + b_v"
      ],
      "metadata": {
        "id": "EDPqa7tARrdq"
      },
      "execution_count": null,
      "outputs": []
    },
    {
      "cell_type": "code",
      "source": [
        "model = MF_bias(num_users, num_items, emb_size=100) #.cuda()"
      ],
      "metadata": {
        "id": "b80oVmYwRxhg"
      },
      "execution_count": null,
      "outputs": []
    },
    {
      "cell_type": "code",
      "source": [
        "train_epocs(model, epochs=10, lr=0.05, wd=1e-5)"
      ],
      "metadata": {
        "colab": {
          "base_uri": "https://localhost:8080/"
        },
        "id": "bel9BBJkRyoG",
        "outputId": "530142e8-bb9f-4a55-fb03-c30e378ee6a3"
      },
      "execution_count": null,
      "outputs": [
        {
          "output_type": "stream",
          "name": "stdout",
          "text": [
            "12.913201332092285\n",
            "9.158486366271973\n",
            "4.393214225769043\n",
            "1.1586315631866455\n",
            "2.4618592262268066\n",
            "3.745398998260498\n",
            "2.4525110721588135\n",
            "1.079404354095459\n",
            "0.8143762350082397\n",
            "1.3159016370773315\n",
            "test loss 2.068 \n"
          ]
        }
      ]
    },
    {
      "cell_type": "code",
      "source": [
        "train_epocs(model, epochs=10, lr=0.01, wd=1e-5)"
      ],
      "metadata": {
        "id": "_foHu0sAR2vZ",
        "outputId": "fa90e282-7b19-418f-ff2f-7ca2518af684",
        "colab": {
          "base_uri": "https://localhost:8080/"
        }
      },
      "execution_count": null,
      "outputs": [
        {
          "output_type": "stream",
          "name": "stdout",
          "text": [
            "1.8920012712478638\n",
            "1.3238822221755981\n",
            "0.9342262148857117\n",
            "0.7443917989730835\n",
            "0.722421407699585\n",
            "0.7777937054634094\n",
            "0.8232869505882263\n",
            "0.8219900727272034\n",
            "0.7811893224716187\n",
            "0.7271417379379272\n",
            "test loss 0.798 \n"
          ]
        }
      ]
    },
    {
      "cell_type": "code",
      "source": [
        "train_epocs(model, epochs=10, lr=0.001, wd=1e-5)"
      ],
      "metadata": {
        "id": "Q7HLjsSWR5A1",
        "outputId": "efcf46b1-2773-4c57-c9a8-6d745f5e7828",
        "colab": {
          "base_uri": "https://localhost:8080/"
        }
      },
      "execution_count": null,
      "outputs": [
        {
          "output_type": "stream",
          "name": "stdout",
          "text": [
            "0.6848835349082947\n",
            "0.6707419157028198\n",
            "0.6589115262031555\n",
            "0.6492202877998352\n",
            "0.6414564251899719\n",
            "0.6353794932365417\n",
            "0.6307392716407776\n",
            "0.6272894144058228\n",
            "0.6247975826263428\n",
            "0.6230531334877014\n",
            "test loss 0.751 \n"
          ]
        }
      ]
    },
    {
      "cell_type": "code",
      "source": [
        ""
      ],
      "metadata": {
        "id": "wvO6Bu_QR65D"
      },
      "execution_count": null,
      "outputs": []
    }
  ]
}