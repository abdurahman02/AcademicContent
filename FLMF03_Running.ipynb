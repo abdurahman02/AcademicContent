{
  "nbformat": 4,
  "nbformat_minor": 0,
  "metadata": {
    "colab": {
      "name": "FLMF03_Running.ipynb",
      "provenance": [],
      "authorship_tag": "ABX9TyN/vqqG99nWPgWqTzuPDNiA",
      "include_colab_link": true
    },
    "kernelspec": {
      "name": "python3",
      "display_name": "Python 3"
    },
    "language_info": {
      "name": "python"
    },
    "accelerator": "GPU"
  },
  "cells": [
    {
      "cell_type": "markdown",
      "metadata": {
        "id": "view-in-github",
        "colab_type": "text"
      },
      "source": [
        "<a href=\"https://colab.research.google.com/github/abdurahman02/AcademicContent/blob/master/FLMF03_Running.ipynb\" target=\"_parent\"><img src=\"https://colab.research.google.com/assets/colab-badge.svg\" alt=\"Open In Colab\"/></a>"
      ]
    },
    {
      "cell_type": "code",
      "execution_count": 1,
      "metadata": {
        "id": "O7hmKYDxPDsi"
      },
      "outputs": [],
      "source": [
        "import torch\n",
        "import torch.nn as nn\n",
        "import torch.nn.functional as F\n",
        "import matplotlib.pyplot as plt\n",
        "from pathlib import Path\n",
        "import pandas as pd\n",
        "import numpy as np\n",
        "import os\n",
        "import copy\n",
        "import time\n",
        "import string"
      ]
    },
    {
      "cell_type": "code",
      "source": [
        "!git clone \"https://github.com/abdurahman02/ml-latest-small.git\"\n",
        "os.chdir(\"ml-latest-small\")\n",
        "os.listdir()"
      ],
      "metadata": {
        "colab": {
          "base_uri": "https://localhost:8080/"
        },
        "id": "ycunta1iPrA_",
        "outputId": "5b59be35-eed6-4b93-abd4-dfd8afdf1406"
      },
      "execution_count": 2,
      "outputs": [
        {
          "output_type": "stream",
          "name": "stdout",
          "text": [
            "fatal: destination path 'ml-latest-small' already exists and is not an empty directory.\n"
          ]
        },
        {
          "output_type": "execute_result",
          "data": {
            "text/plain": [
              "['ml-latest-small',\n",
              " 'links.csv',\n",
              " 'tags.csv',\n",
              " 'results_02.txt',\n",
              " 'results.md',\n",
              " 'ratings.csv',\n",
              " 'README.md',\n",
              " 'movies.csv',\n",
              " '.git']"
            ]
          },
          "metadata": {},
          "execution_count": 2
        }
      ]
    },
    {
      "cell_type": "code",
      "source": [
        "data = pd.read_csv(\"ratings.csv\")\n",
        "data.head()"
      ],
      "metadata": {
        "colab": {
          "base_uri": "https://localhost:8080/",
          "height": 206
        },
        "id": "amBeKnejP9uE",
        "outputId": "56b74211-5a26-423a-aff4-65db7e091ddc"
      },
      "execution_count": 4,
      "outputs": [
        {
          "output_type": "execute_result",
          "data": {
            "text/html": [
              "\n",
              "  <div id=\"df-fffd3c43-9d35-4e13-b24e-a124bca4a240\">\n",
              "    <div class=\"colab-df-container\">\n",
              "      <div>\n",
              "<style scoped>\n",
              "    .dataframe tbody tr th:only-of-type {\n",
              "        vertical-align: middle;\n",
              "    }\n",
              "\n",
              "    .dataframe tbody tr th {\n",
              "        vertical-align: top;\n",
              "    }\n",
              "\n",
              "    .dataframe thead th {\n",
              "        text-align: right;\n",
              "    }\n",
              "</style>\n",
              "<table border=\"1\" class=\"dataframe\">\n",
              "  <thead>\n",
              "    <tr style=\"text-align: right;\">\n",
              "      <th></th>\n",
              "      <th>userId</th>\n",
              "      <th>movieId</th>\n",
              "      <th>rating</th>\n",
              "      <th>timestamp</th>\n",
              "    </tr>\n",
              "  </thead>\n",
              "  <tbody>\n",
              "    <tr>\n",
              "      <th>0</th>\n",
              "      <td>1</td>\n",
              "      <td>1</td>\n",
              "      <td>4.0</td>\n",
              "      <td>964982703</td>\n",
              "    </tr>\n",
              "    <tr>\n",
              "      <th>1</th>\n",
              "      <td>1</td>\n",
              "      <td>3</td>\n",
              "      <td>4.0</td>\n",
              "      <td>964981247</td>\n",
              "    </tr>\n",
              "    <tr>\n",
              "      <th>2</th>\n",
              "      <td>1</td>\n",
              "      <td>6</td>\n",
              "      <td>4.0</td>\n",
              "      <td>964982224</td>\n",
              "    </tr>\n",
              "    <tr>\n",
              "      <th>3</th>\n",
              "      <td>1</td>\n",
              "      <td>47</td>\n",
              "      <td>5.0</td>\n",
              "      <td>964983815</td>\n",
              "    </tr>\n",
              "    <tr>\n",
              "      <th>4</th>\n",
              "      <td>1</td>\n",
              "      <td>50</td>\n",
              "      <td>5.0</td>\n",
              "      <td>964982931</td>\n",
              "    </tr>\n",
              "  </tbody>\n",
              "</table>\n",
              "</div>\n",
              "      <button class=\"colab-df-convert\" onclick=\"convertToInteractive('df-fffd3c43-9d35-4e13-b24e-a124bca4a240')\"\n",
              "              title=\"Convert this dataframe to an interactive table.\"\n",
              "              style=\"display:none;\">\n",
              "        \n",
              "  <svg xmlns=\"http://www.w3.org/2000/svg\" height=\"24px\"viewBox=\"0 0 24 24\"\n",
              "       width=\"24px\">\n",
              "    <path d=\"M0 0h24v24H0V0z\" fill=\"none\"/>\n",
              "    <path d=\"M18.56 5.44l.94 2.06.94-2.06 2.06-.94-2.06-.94-.94-2.06-.94 2.06-2.06.94zm-11 1L8.5 8.5l.94-2.06 2.06-.94-2.06-.94L8.5 2.5l-.94 2.06-2.06.94zm10 10l.94 2.06.94-2.06 2.06-.94-2.06-.94-.94-2.06-.94 2.06-2.06.94z\"/><path d=\"M17.41 7.96l-1.37-1.37c-.4-.4-.92-.59-1.43-.59-.52 0-1.04.2-1.43.59L10.3 9.45l-7.72 7.72c-.78.78-.78 2.05 0 2.83L4 21.41c.39.39.9.59 1.41.59.51 0 1.02-.2 1.41-.59l7.78-7.78 2.81-2.81c.8-.78.8-2.07 0-2.86zM5.41 20L4 18.59l7.72-7.72 1.47 1.35L5.41 20z\"/>\n",
              "  </svg>\n",
              "      </button>\n",
              "      \n",
              "  <style>\n",
              "    .colab-df-container {\n",
              "      display:flex;\n",
              "      flex-wrap:wrap;\n",
              "      gap: 12px;\n",
              "    }\n",
              "\n",
              "    .colab-df-convert {\n",
              "      background-color: #E8F0FE;\n",
              "      border: none;\n",
              "      border-radius: 50%;\n",
              "      cursor: pointer;\n",
              "      display: none;\n",
              "      fill: #1967D2;\n",
              "      height: 32px;\n",
              "      padding: 0 0 0 0;\n",
              "      width: 32px;\n",
              "    }\n",
              "\n",
              "    .colab-df-convert:hover {\n",
              "      background-color: #E2EBFA;\n",
              "      box-shadow: 0px 1px 2px rgba(60, 64, 67, 0.3), 0px 1px 3px 1px rgba(60, 64, 67, 0.15);\n",
              "      fill: #174EA6;\n",
              "    }\n",
              "\n",
              "    [theme=dark] .colab-df-convert {\n",
              "      background-color: #3B4455;\n",
              "      fill: #D2E3FC;\n",
              "    }\n",
              "\n",
              "    [theme=dark] .colab-df-convert:hover {\n",
              "      background-color: #434B5C;\n",
              "      box-shadow: 0px 1px 3px 1px rgba(0, 0, 0, 0.15);\n",
              "      filter: drop-shadow(0px 1px 2px rgba(0, 0, 0, 0.3));\n",
              "      fill: #FFFFFF;\n",
              "    }\n",
              "  </style>\n",
              "\n",
              "      <script>\n",
              "        const buttonEl =\n",
              "          document.querySelector('#df-fffd3c43-9d35-4e13-b24e-a124bca4a240 button.colab-df-convert');\n",
              "        buttonEl.style.display =\n",
              "          google.colab.kernel.accessAllowed ? 'block' : 'none';\n",
              "\n",
              "        async function convertToInteractive(key) {\n",
              "          const element = document.querySelector('#df-fffd3c43-9d35-4e13-b24e-a124bca4a240');\n",
              "          const dataTable =\n",
              "            await google.colab.kernel.invokeFunction('convertToInteractive',\n",
              "                                                     [key], {});\n",
              "          if (!dataTable) return;\n",
              "\n",
              "          const docLinkHtml = 'Like what you see? Visit the ' +\n",
              "            '<a target=\"_blank\" href=https://colab.research.google.com/notebooks/data_table.ipynb>data table notebook</a>'\n",
              "            + ' to learn more about interactive tables.';\n",
              "          element.innerHTML = '';\n",
              "          dataTable['output_type'] = 'display_data';\n",
              "          await google.colab.output.renderOutput(dataTable, element);\n",
              "          const docLink = document.createElement('div');\n",
              "          docLink.innerHTML = docLinkHtml;\n",
              "          element.appendChild(docLink);\n",
              "        }\n",
              "      </script>\n",
              "    </div>\n",
              "  </div>\n",
              "  "
            ],
            "text/plain": [
              "   userId  movieId  rating  timestamp\n",
              "0       1        1     4.0  964982703\n",
              "1       1        3     4.0  964981247\n",
              "2       1        6     4.0  964982224\n",
              "3       1       47     5.0  964983815\n",
              "4       1       50     5.0  964982931"
            ]
          },
          "metadata": {},
          "execution_count": 4
        }
      ]
    },
    {
      "cell_type": "code",
      "source": [
        "# split train and validation before encoding\n",
        "np.random.seed(3)\n",
        "msk = np.random.rand(len(data)) < 0.8\n",
        "train = data[msk].copy()\n",
        "val = data[~msk].copy()"
      ],
      "metadata": {
        "id": "LCh0JIsUPutc"
      },
      "execution_count": 5,
      "outputs": []
    },
    {
      "cell_type": "code",
      "source": [
        "# here is a handy function modified from fast.ai\n",
        "def proc_col(col, train_col=None):\n",
        "    \"\"\"Encodes a pandas column with continous ids. \n",
        "    \"\"\"\n",
        "    if train_col is not None:\n",
        "        uniq = train_col.unique()\n",
        "    else:\n",
        "        uniq = col.unique()\n",
        "    name2idx = {o:i for i,o in enumerate(uniq)}\n",
        "    return name2idx, np.array([name2idx.get(x, -1) for x in col]), len(uniq)\n",
        "\n",
        "def encode_data(df, train=None):\n",
        "    \"\"\" Encodes rating data with continous user and movie ids. \n",
        "    If train is provided, encodes df with the same encoding as train.\n",
        "    \"\"\"\n",
        "    df = df.copy()\n",
        "    for col_name in [\"userId\", \"movieId\"]:\n",
        "        train_col = None\n",
        "        if train is not None:\n",
        "            train_col = train[col_name]\n",
        "        _,col,_ = proc_col(df[col_name], train_col)\n",
        "        df[col_name] = col\n",
        "        df = df[df[col_name] >= 0]\n",
        "    return df"
      ],
      "metadata": {
        "id": "3BzpRQQrP1NX"
      },
      "execution_count": 6,
      "outputs": []
    },
    {
      "cell_type": "code",
      "source": [
        "# encoding the train and validation data\n",
        "df_train = encode_data(train)\n",
        "df_val = encode_data(val, train)"
      ],
      "metadata": {
        "id": "YJf2E3lRQKft"
      },
      "execution_count": 7,
      "outputs": []
    },
    {
      "cell_type": "code",
      "source": [
        "num_users = len(df_train.userId.unique())\n",
        "num_items = len(df_train.movieId.unique())\n",
        "print(num_users, num_items)"
      ],
      "metadata": {
        "colab": {
          "base_uri": "https://localhost:8080/"
        },
        "id": "bxrje2oDQf51",
        "outputId": "41849cae-fcba-45d3-9a8c-f8ef00b6b6bd"
      },
      "execution_count": 8,
      "outputs": [
        {
          "output_type": "stream",
          "name": "stdout",
          "text": [
            "610 8998\n"
          ]
        }
      ]
    },
    {
      "cell_type": "code",
      "source": [
        "def add_model_parameters(model1, model2):\n",
        "    # Adds the parameters of model1 to model2\n",
        "\n",
        "    params1 = model1.named_parameters()\n",
        "    params2 = model2.named_parameters()\n",
        "\n",
        "    dict_params2 = dict(params2)\n",
        "\n",
        "    for name1, param1 in params1:\n",
        "        if name1 in dict_params2:\n",
        "        #   if name1 != 'userX_embedding.weight':\n",
        "            dict_params2[name1].data.copy_(param1.data + dict_params2[name1].data)\n",
        "\n",
        "    model2.load_state_dict(dict_params2)\n",
        "\n",
        "def sub_model_parameters(model1, model2):\n",
        "    # Subtracts the parameters of model2 with model1\n",
        "\n",
        "    params1 = model1.named_parameters()\n",
        "    params2 = model2.named_parameters()\n",
        "\n",
        "    dict_params2 = dict(params2)\n",
        "\n",
        "    for name1, param1 in params1:\n",
        "        if name1 in dict_params2:\n",
        "        #   if name1 != 'userX_embedding.weight':\n",
        "            dict_params2[name1].data.copy_(dict_params2[name1].data - param1.data)\n",
        "\n",
        "    model2.load_state_dict(dict_params2)\n",
        "\n",
        "def divide_model_parameters(model, f):\n",
        "    # Divides model parameters except for the user embeddings with f\n",
        "    params1 = model.named_parameters()\n",
        "    params2 = model.named_parameters()\n",
        "    dict_params2 = dict(params2)\n",
        "    for name1, param1 in params1:\n",
        "        if name1 != 'user_emb.weight':\n",
        "            dict_params2[name1].data.copy_(param1.data / f)\n",
        "    model.load_state_dict(dict_params2)\n",
        "\n",
        "def zero_model_parameters(model):\n",
        "    # sets all parameters to zero\n",
        "\n",
        "    params1 = model.named_parameters()\n",
        "    params2 = model.named_parameters()\n",
        "    dict_params2 = dict(params2)\n",
        "    for name1, param1 in params1:\n",
        "        if name1 in dict_params2:\n",
        "            dict_params2[name1].data.copy_(param1.data - dict_params2[name1].data)\n",
        "\n",
        "    model.load_state_dict(dict_params2)\n",
        "\n",
        "def AssignUserEmbedding(model, user_emb):\n",
        "  params1 = model.named_parameters()\n",
        "  dict_params1 = dict(params1)\n",
        "  dict_params1['userX_embedding.weight'].data = copy.deepcopy(user_emb)\n",
        "  model.load_state_dict(dict_params1)\n",
        "\n",
        "def printModelParam(model):\n",
        "  print(\"hello world\")\n",
        "  params1 = model.named_parameters()\n",
        "  print(params1)\n",
        "  dict_params1 = dict(params1)\n",
        "  print(dict_params1)\n",
        "  print(dict_params1['userX_embedding.weight'].data)\n",
        "  # for name1, param1 in params1:\n",
        "  #   print(\"hello world\")\n",
        "  #   print(name1)\n",
        "  #   print(param1)\n"
      ],
      "metadata": {
        "id": "dsCfisszHCbm"
      },
      "execution_count": 9,
      "outputs": []
    },
    {
      "cell_type": "code",
      "source": [
        "class MF(nn.Module):\n",
        "    def __init__(self, num_users, num_items, emb_size=100):\n",
        "        super(MF, self).__init__()\n",
        "        self.user_emb = nn.Embedding(num_users, emb_size)\n",
        "        self.item_emb = nn.Embedding(num_items, emb_size)\n",
        "        self.user_emb.weight.data.uniform_(0, 0.05)\n",
        "        self.item_emb.weight.data.uniform_(0, 0.05)\n",
        "        \n",
        "    def forward(self, u, v):\n",
        "        u = self.user_emb(u)\n",
        "        v = self.item_emb(v)\n",
        "        return (u*v).sum(1)"
      ],
      "metadata": {
        "id": "zL_ET6b2QM8P"
      },
      "execution_count": 10,
      "outputs": []
    },
    {
      "cell_type": "code",
      "source": [
        "class MF02(nn.Module):\n",
        "    def __init__(self, num_users, num_items, emb_size=100):\n",
        "        super(MF02, self).__init__()\n",
        "        self.user_emb = nn.Embedding(num_users, emb_size)\n",
        "        self.item_emb = nn.Embedding(num_items, emb_size)\n",
        "        # self.user_emb.weight.data.uniform_(0, 0.05)\n",
        "        # self.item_emb.weight.data.uniform_(0, 0.05)\n",
        "        \n",
        "    def forward(self, u, v):\n",
        "        u = self.user_emb(u)\n",
        "        v = self.item_emb(v)\n",
        "        return (u*v).sum(1)"
      ],
      "metadata": {
        "id": "s99N7j1DNgTJ"
      },
      "execution_count": 34,
      "outputs": []
    },
    {
      "cell_type": "code",
      "source": [
        "# if torch.cuda.is_available():\n",
        "#   model = MF(num_users, num_items, emb_size=100).cuda()\n",
        "# else:\n",
        "#   model = MF(num_users, num_items, emb_size=100)"
      ],
      "metadata": {
        "id": "ypj5lE7jQOvH"
      },
      "execution_count": 35,
      "outputs": []
    },
    {
      "cell_type": "code",
      "source": [
        "def test_loss(model01, unsqueeze=False):\n",
        "    model01.eval()\n",
        "    if torch.cuda.is_available():\n",
        "      users = torch.LongTensor(df_val.userId.values).cuda()\n",
        "      items = torch.LongTensor(df_val.movieId.values).cuda()\n",
        "      ratings = torch.FloatTensor(df_val.rating.values).cuda()\n",
        "    else:\n",
        "      users = torch.LongTensor(df_val.userId.values)\n",
        "      items = torch.LongTensor(df_val.movieId.values)\n",
        "      ratings = torch.FloatTensor(df_val.rating.values)\n",
        "    if unsqueeze:\n",
        "        ratings = ratings.unsqueeze(1)\n",
        "    y_hat = model01(users, items)\n",
        "    loss = F.mse_loss(y_hat, ratings)\n",
        "    print(\"test loss %.3f \" % loss.item())"
      ],
      "metadata": {
        "id": "QglDkZOEQtZ_"
      },
      "execution_count": 36,
      "outputs": []
    },
    {
      "cell_type": "code",
      "source": [
        ""
      ],
      "metadata": {
        "id": "YTLRpEjiHAbR"
      },
      "execution_count": 36,
      "outputs": []
    },
    {
      "cell_type": "code",
      "source": [
        "def train_epocs(model_server, epochs=10, lr=0.01, wd=0.0, unsqueeze=False):\n",
        "    \n",
        "    model_diff = copy.deepcopy(model_server)\n",
        "    if torch.cuda.is_available():\n",
        "      model_diff.cuda()\n",
        "    zero_model_parameters(model_diff)\n",
        "\n",
        "    t1 = time.time()\n",
        "    \n",
        "\n",
        "    # optimizer = torch.optim.Adam(model.parameters(), lr=lr, weight_decay=wd)\n",
        "    \n",
        "\n",
        "    for user_id in df_train.userId.unique():\n",
        "\n",
        "        model02 = copy.deepcopy(model_server)\n",
        "        model02.train()\n",
        "        if torch.cuda.is_available():\n",
        "            model02.cuda()\n",
        "        optimizer = torch.optim.Adam(model02.parameters(), lr=lr, weight_decay=wd)\n",
        "    \n",
        "        sel_rows_of_user_i = df_train[(df_train.userId == user_id)]\n",
        "        if torch.cuda.is_available():\n",
        "            users = torch.LongTensor(sel_rows_of_user_i.userId.values).cuda()\n",
        "            items = torch.LongTensor(sel_rows_of_user_i.movieId.values).cuda()\n",
        "            ratings = torch.FloatTensor(sel_rows_of_user_i.rating.values).cuda()\n",
        "        else:\n",
        "            users = torch.LongTensor(sel_rows_of_user_i.userId.values) # .cuda()\n",
        "            items = torch.LongTensor(sel_rows_of_user_i.movieId.values) #.cuda()\n",
        "            ratings = torch.FloatTensor(sel_rows_of_user_i.rating.values) #.cuda()\n",
        "        if unsqueeze:\n",
        "            ratings = ratings.unsqueeze(1)\n",
        "\n",
        "        \n",
        "        y_hat = model02(users, items)\n",
        "        loss = F.mse_loss(y_hat, ratings)\n",
        "        optimizer.zero_grad()\n",
        "        loss.backward()\n",
        "        optimizer.step()\n",
        "        # print(loss.item())\n",
        "\n",
        "        sub_model_parameters(model_server, model02)\n",
        "        add_model_parameters(model02, model_diff)\n",
        "\n",
        "    # Take the average of the MLP and item vectors\n",
        "    divide_model_parameters(model_diff, (len(df_train.userId.unique())))\n",
        "\n",
        "    # Update the global model by adding the total change\n",
        "    add_model_parameters(model_diff, model_server)\n",
        "    \n",
        "    t2 = time.time()\n",
        "    print(\"Time of round:\", round(t2 - t1), \"seconds\")\n",
        "\n",
        "    test_loss(model_server, unsqueeze)\n",
        "    return model_server"
      ],
      "metadata": {
        "id": "LeajHxqjQisA"
      },
      "execution_count": 44,
      "outputs": []
    },
    {
      "cell_type": "code",
      "source": [
        "if torch.cuda.is_available():\n",
        "  model_s = MF(num_users, num_items, emb_size=100).cuda()\n",
        "else:\n",
        "  model_s = MF(num_users, num_items, emb_size=100)"
      ],
      "metadata": {
        "id": "7yrvrRbGRYXv"
      },
      "execution_count": 45,
      "outputs": []
    },
    {
      "cell_type": "code",
      "source": [
        "for t in range(10):\n",
        "    train_epocs(model_s, epochs=10, lr=0.1)"
      ],
      "metadata": {
        "colab": {
          "base_uri": "https://localhost:8080/"
        },
        "id": "V7G8xZryRY6O",
        "outputId": "2e6723e2-fd9f-471f-a4ed-5bc0b8204b16"
      },
      "execution_count": 46,
      "outputs": [
        {
          "output_type": "stream",
          "name": "stdout",
          "text": [
            "Time of round: 10 seconds\n",
            "test loss 10.683 \n",
            "Time of round: 11 seconds\n",
            "test loss 7.804 \n",
            "Time of round: 10 seconds\n",
            "test loss 5.115 \n",
            "Time of round: 10 seconds\n",
            "test loss 3.367 \n",
            "Time of round: 10 seconds\n",
            "test loss 2.370 \n",
            "Time of round: 10 seconds\n",
            "test loss 1.901 \n",
            "Time of round: 10 seconds\n",
            "test loss 1.630 \n",
            "Time of round: 10 seconds\n",
            "test loss 1.481 \n",
            "Time of round: 10 seconds\n",
            "test loss 1.344 \n",
            "Time of round: 10 seconds\n",
            "test loss 1.261 \n"
          ]
        }
      ]
    },
    {
      "cell_type": "code",
      "source": [
        "for t in range(10):\n",
        "    train_epocs(model_s, epochs=15, lr=0.01)"
      ],
      "metadata": {
        "colab": {
          "base_uri": "https://localhost:8080/"
        },
        "id": "okrTU-siRidA",
        "outputId": "1fffc900-f524-46ef-afd2-ee3fd4897fcd"
      },
      "execution_count": 47,
      "outputs": [
        {
          "output_type": "stream",
          "name": "stdout",
          "text": [
            "Time of round: 10 seconds\n",
            "test loss 1.227 \n",
            "Time of round: 10 seconds\n",
            "test loss 1.199 \n",
            "Time of round: 10 seconds\n",
            "test loss 1.176 \n",
            "Time of round: 10 seconds\n",
            "test loss 1.158 \n",
            "Time of round: 10 seconds\n",
            "test loss 1.144 \n",
            "Time of round: 10 seconds\n",
            "test loss 1.133 \n",
            "Time of round: 10 seconds\n",
            "test loss 1.124 \n",
            "Time of round: 10 seconds\n",
            "test loss 1.115 \n",
            "Time of round: 10 seconds\n",
            "test loss 1.107 \n",
            "Time of round: 10 seconds\n",
            "test loss 1.100 \n"
          ]
        }
      ]
    },
    {
      "cell_type": "code",
      "source": [
        "for t in range(30):\n",
        "    train_epocs(model_s, epochs=15, lr=0.01)"
      ],
      "metadata": {
        "colab": {
          "base_uri": "https://localhost:8080/"
        },
        "id": "hVDWG3I2RmAa",
        "outputId": "6db27399-0511-41c0-b9c8-5c10361481a0"
      },
      "execution_count": 48,
      "outputs": [
        {
          "output_type": "stream",
          "name": "stdout",
          "text": [
            "Time of round: 10 seconds\n",
            "test loss 1.093 \n",
            "Time of round: 10 seconds\n",
            "test loss 1.086 \n",
            "Time of round: 10 seconds\n",
            "test loss 1.080 \n",
            "Time of round: 10 seconds\n",
            "test loss 1.074 \n",
            "Time of round: 10 seconds\n",
            "test loss 1.067 \n",
            "Time of round: 10 seconds\n",
            "test loss 1.062 \n",
            "Time of round: 10 seconds\n",
            "test loss 1.056 \n",
            "Time of round: 10 seconds\n",
            "test loss 1.051 \n",
            "Time of round: 11 seconds\n",
            "test loss 1.045 \n",
            "Time of round: 10 seconds\n",
            "test loss 1.040 \n",
            "Time of round: 10 seconds\n",
            "test loss 1.035 \n",
            "Time of round: 10 seconds\n",
            "test loss 1.030 \n",
            "Time of round: 10 seconds\n",
            "test loss 1.025 \n",
            "Time of round: 10 seconds\n",
            "test loss 1.021 \n",
            "Time of round: 10 seconds\n",
            "test loss 1.016 \n",
            "Time of round: 10 seconds\n",
            "test loss 1.012 \n",
            "Time of round: 10 seconds\n",
            "test loss 1.008 \n",
            "Time of round: 10 seconds\n",
            "test loss 1.004 \n",
            "Time of round: 10 seconds\n",
            "test loss 1.000 \n",
            "Time of round: 10 seconds\n",
            "test loss 0.996 \n",
            "Time of round: 10 seconds\n",
            "test loss 0.992 \n",
            "Time of round: 10 seconds\n",
            "test loss 0.989 \n",
            "Time of round: 10 seconds\n",
            "test loss 0.985 \n",
            "Time of round: 10 seconds\n",
            "test loss 0.982 \n",
            "Time of round: 10 seconds\n",
            "test loss 0.978 \n",
            "Time of round: 10 seconds\n",
            "test loss 0.976 \n",
            "Time of round: 10 seconds\n",
            "test loss 0.972 \n",
            "Time of round: 10 seconds\n",
            "test loss 0.969 \n",
            "Time of round: 10 seconds\n",
            "test loss 0.966 \n",
            "Time of round: 10 seconds\n",
            "test loss 0.963 \n"
          ]
        }
      ]
    },
    {
      "cell_type": "code",
      "source": [
        "for t in range(30):\n",
        "    train_epocs(model_s, epochs=15, lr=0.01)"
      ],
      "metadata": {
        "colab": {
          "base_uri": "https://localhost:8080/"
        },
        "id": "7EdYLVaCSEhC",
        "outputId": "d2bb6feb-bd87-4878-ec94-823c5698701b"
      },
      "execution_count": 49,
      "outputs": [
        {
          "output_type": "stream",
          "name": "stdout",
          "text": [
            "Time of round: 10 seconds\n",
            "test loss 0.960 \n",
            "Time of round: 10 seconds\n",
            "test loss 0.958 \n",
            "Time of round: 10 seconds\n",
            "test loss 0.954 \n",
            "Time of round: 10 seconds\n",
            "test loss 0.952 \n",
            "Time of round: 10 seconds\n",
            "test loss 0.949 \n",
            "Time of round: 10 seconds\n",
            "test loss 0.947 \n",
            "Time of round: 10 seconds\n",
            "test loss 0.944 \n",
            "Time of round: 10 seconds\n",
            "test loss 0.942 \n",
            "Time of round: 10 seconds\n",
            "test loss 0.939 \n",
            "Time of round: 10 seconds\n",
            "test loss 0.937 \n",
            "Time of round: 10 seconds\n",
            "test loss 0.935 \n",
            "Time of round: 10 seconds\n",
            "test loss 0.933 \n",
            "Time of round: 10 seconds\n",
            "test loss 0.931 \n",
            "Time of round: 10 seconds\n",
            "test loss 0.929 \n",
            "Time of round: 10 seconds\n",
            "test loss 0.926 \n",
            "Time of round: 10 seconds\n",
            "test loss 0.925 \n",
            "Time of round: 10 seconds\n",
            "test loss 0.923 \n",
            "Time of round: 10 seconds\n",
            "test loss 0.921 \n",
            "Time of round: 10 seconds\n",
            "test loss 0.919 \n",
            "Time of round: 10 seconds\n",
            "test loss 0.917 \n",
            "Time of round: 10 seconds\n",
            "test loss 0.915 \n",
            "Time of round: 10 seconds\n",
            "test loss 0.914 \n",
            "Time of round: 10 seconds\n",
            "test loss 0.912 \n",
            "Time of round: 10 seconds\n",
            "test loss 0.911 \n",
            "Time of round: 10 seconds\n",
            "test loss 0.909 \n",
            "Time of round: 10 seconds\n",
            "test loss 0.907 \n",
            "Time of round: 10 seconds\n",
            "test loss 0.905 \n",
            "Time of round: 10 seconds\n",
            "test loss 0.904 \n",
            "Time of round: 10 seconds\n",
            "test loss 0.902 \n",
            "Time of round: 10 seconds\n",
            "test loss 0.901 \n"
          ]
        }
      ]
    },
    {
      "cell_type": "code",
      "source": [
        "class MF_bias(nn.Module):\n",
        "    def __init__(self, num_users, num_items, emb_size=100):\n",
        "        super(MF_bias, self).__init__()\n",
        "        self.user_emb = nn.Embedding(num_users, emb_size)\n",
        "        self.user_bias = nn.Embedding(num_users, 1)\n",
        "        self.item_emb = nn.Embedding(num_items, emb_size)\n",
        "        self.item_bias = nn.Embedding(num_items, 1)\n",
        "        self.user_emb.weight.data.uniform_(0,0.05)\n",
        "        self.item_emb.weight.data.uniform_(0,0.05)\n",
        "        self.user_bias.weight.data.uniform_(-0.01,0.01)\n",
        "        self.item_bias.weight.data.uniform_(-0.01,0.01)\n",
        "        \n",
        "    def forward(self, u, v):\n",
        "        U = self.user_emb(u)\n",
        "        V = self.item_emb(v)\n",
        "        b_u = self.user_bias(u).squeeze()\n",
        "        b_v = self.item_bias(v).squeeze()\n",
        "        return (U*V).sum(1) +  b_u  + b_v"
      ],
      "metadata": {
        "id": "EDPqa7tARrdq"
      },
      "execution_count": null,
      "outputs": []
    },
    {
      "cell_type": "code",
      "source": [
        "model = MF_bias(num_users, num_items, emb_size=100) #.cuda()"
      ],
      "metadata": {
        "id": "b80oVmYwRxhg"
      },
      "execution_count": null,
      "outputs": []
    },
    {
      "cell_type": "code",
      "source": [
        "train_epocs(model, epochs=10, lr=0.05, wd=1e-5)"
      ],
      "metadata": {
        "colab": {
          "base_uri": "https://localhost:8080/"
        },
        "id": "bel9BBJkRyoG",
        "outputId": "530142e8-bb9f-4a55-fb03-c30e378ee6a3"
      },
      "execution_count": null,
      "outputs": [
        {
          "output_type": "stream",
          "name": "stdout",
          "text": [
            "12.913201332092285\n",
            "9.158486366271973\n",
            "4.393214225769043\n",
            "1.1586315631866455\n",
            "2.4618592262268066\n",
            "3.745398998260498\n",
            "2.4525110721588135\n",
            "1.079404354095459\n",
            "0.8143762350082397\n",
            "1.3159016370773315\n",
            "test loss 2.068 \n"
          ]
        }
      ]
    },
    {
      "cell_type": "code",
      "source": [
        "train_epocs(model, epochs=10, lr=0.01, wd=1e-5)"
      ],
      "metadata": {
        "id": "_foHu0sAR2vZ",
        "outputId": "fa90e282-7b19-418f-ff2f-7ca2518af684",
        "colab": {
          "base_uri": "https://localhost:8080/"
        }
      },
      "execution_count": null,
      "outputs": [
        {
          "output_type": "stream",
          "name": "stdout",
          "text": [
            "1.8920012712478638\n",
            "1.3238822221755981\n",
            "0.9342262148857117\n",
            "0.7443917989730835\n",
            "0.722421407699585\n",
            "0.7777937054634094\n",
            "0.8232869505882263\n",
            "0.8219900727272034\n",
            "0.7811893224716187\n",
            "0.7271417379379272\n",
            "test loss 0.798 \n"
          ]
        }
      ]
    },
    {
      "cell_type": "code",
      "source": [
        "train_epocs(model, epochs=10, lr=0.001, wd=1e-5)"
      ],
      "metadata": {
        "id": "Q7HLjsSWR5A1",
        "outputId": "efcf46b1-2773-4c57-c9a8-6d745f5e7828",
        "colab": {
          "base_uri": "https://localhost:8080/"
        }
      },
      "execution_count": null,
      "outputs": [
        {
          "output_type": "stream",
          "name": "stdout",
          "text": [
            "0.6848835349082947\n",
            "0.6707419157028198\n",
            "0.6589115262031555\n",
            "0.6492202877998352\n",
            "0.6414564251899719\n",
            "0.6353794932365417\n",
            "0.6307392716407776\n",
            "0.6272894144058228\n",
            "0.6247975826263428\n",
            "0.6230531334877014\n",
            "test loss 0.751 \n"
          ]
        }
      ]
    },
    {
      "cell_type": "code",
      "source": [
        ""
      ],
      "metadata": {
        "id": "wvO6Bu_QR65D"
      },
      "execution_count": null,
      "outputs": []
    }
  ]
}